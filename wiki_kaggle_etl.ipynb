{
 "metadata": {
  "language_info": {
   "codemirror_mode": {
    "name": "ipython",
    "version": 3
   },
   "file_extension": ".py",
   "mimetype": "text/x-python",
   "name": "python",
   "nbconvert_exporter": "python",
   "pygments_lexer": "ipython3",
   "version": "3.7.7-final"
  },
  "orig_nbformat": 2,
  "kernelspec": {
   "name": "python_defaultSpec_1599917651471",
   "display_name": "Python 3.7.7 64-bit ('base': conda)"
  }
 },
 "nbformat": 4,
 "nbformat_minor": 2,
 "cells": [
  {
   "cell_type": "code",
   "execution_count": 63,
   "metadata": {},
   "outputs": [],
   "source": [
    "%config IPCompleter.greedy=True\n",
    "%matplotlib inline"
   ]
  },
  {
   "cell_type": "code",
   "execution_count": 64,
   "metadata": {},
   "outputs": [],
   "source": [
    "# Import the dependencies.\n",
    "import numpy as np\n",
    "import pandas as pd\n",
    "import matplotlib.pyplot as plt\n",
    "import json"
   ]
  },
  {
   "cell_type": "code",
   "execution_count": 65,
   "metadata": {},
   "outputs": [],
   "source": [
    "# imported but used later on the jupyter notebook\n",
    "import re"
   ]
  },
  {
   "cell_type": "code",
   "execution_count": 66,
   "metadata": {},
   "outputs": [],
   "source": [
    "file_dir = \"./data/\""
   ]
  },
  {
   "cell_type": "code",
   "execution_count": 67,
   "metadata": {},
   "outputs": [
    {
     "output_type": "execute_result",
     "data": {
      "text/plain": "7311"
     },
     "metadata": {},
     "execution_count": 67
    }
   ],
   "source": [
    "with open(f\"{file_dir}wikipedia-movies.json\", mode='r') as file:\n",
    "    wiki_movies_raw = json.load(file)\n",
    "len(wiki_movies_raw)"
   ]
  },
  {
   "cell_type": "code",
   "execution_count": 68,
   "metadata": {},
   "outputs": [
    {
     "output_type": "execute_result",
     "data": {
      "text/plain": "[{'url': 'https://en.wikipedia.org/wiki/The_Adventures_of_Ford_Fairlane',\n  'year': 1990,\n  'imdb_link': 'https://www.imdb.com/title/tt0098987/',\n  'title': 'The Adventures of Ford Fairlane',\n  'Directed by': 'Renny Harlin',\n  'Produced by': ['Steve Perry', 'Joel Silver'],\n  'Screenplay by': ['David Arnott', 'James Cappe', 'Daniel Waters'],\n  'Story by': ['David Arnott', 'James Cappe'],\n  'Based on': ['Characters', 'by Rex Weiner'],\n  'Starring': ['Andrew Dice Clay',\n   'Wayne Newton',\n   'Priscilla Presley',\n   'Lauren Holly',\n   'Morris Day',\n   'Robert Englund',\n   \"Ed O'Neill\"],\n  'Narrated by': 'Andrew \"Dice\" Clay',\n  'Music by': ['Cliff Eidelman', 'Yello'],\n  'Cinematography': 'Oliver Wood',\n  'Edited by': 'Michael Tronick',\n  'Productioncompany ': 'Silver Pictures',\n  'Distributed by': '20th Century Fox',\n  'Release date': ['July 11, 1990', '(', '1990-07-11', ')'],\n  'Running time': '102 minutes',\n  'Country': 'United States',\n  'Language': 'English',\n  'Budget': '$20 million',\n  'Box office': '$21.4 million'},\n {'url': 'https://en.wikipedia.org/wiki/After_Dark,_My_Sweet',\n  'year': 1990,\n  'imdb_link': 'https://www.imdb.com/title/tt0098994/',\n  'title': 'After Dark, My Sweet',\n  'Directed by': 'James Foley',\n  'Produced by': ['Ric Kidney', 'Robert Redlin'],\n  'Screenplay by': ['James Foley', 'Robert Redlin'],\n  'Based on': ['the novel', 'After Dark, My Sweet', 'by', 'Jim Thompson'],\n  'Starring': ['Jason Patric',\n   'Rachel Ward',\n   'Bruce Dern',\n   'George Dickerson'],\n  'Music by': 'Maurice Jarre',\n  'Cinematography': 'Mark Plummer',\n  'Edited by': 'Howard E. Smith',\n  'Productioncompany ': 'Avenue Pictures',\n  'Distributed by': 'Avenue Pictures',\n  'Release date': ['May 17, 1990',\n   '(',\n   '1990-05-17',\n   ')',\n   '(Cannes Film Market)',\n   'August 24, 1990',\n   '(',\n   '1990-08-24',\n   ')',\n   '(United States)'],\n  'Running time': '114 minutes',\n  'Country': 'United States',\n  'Language': 'English',\n  'Budget': '$6 million',\n  'Box office': '$2.7 million'},\n {'url': 'https://en.wikipedia.org/wiki/Air_America_(film)',\n  'year': 1990,\n  'imdb_link': 'https://www.imdb.com/title/tt0099005/',\n  'title': 'Air America',\n  'Directed by': 'Roger Spottiswoode',\n  'Produced by': 'Daniel Melnick',\n  'Screenplay by': ['John Eskow', 'Richard Rush'],\n  'Based on': ['Air America', 'by', 'Christopher Robbins'],\n  'Starring': ['Mel Gibson',\n   'Robert Downey Jr.',\n   'Nancy Travis',\n   'David Marshall Grant',\n   'Lane Smith'],\n  'Music by': 'Charles Gross',\n  'Cinematography': 'Roger Deakins',\n  'Edited by': ['John Bloom', 'Lois Freeman-Fox'],\n  'Productioncompany ': ['Carolco Pictures', 'IndieProd Company'],\n  'Distributed by': 'TriStar Pictures',\n  'Release date': ['August 10, 1990', '(', '1990-08-10', ')'],\n  'Running time': '113 minutes',\n  'Country': 'United States',\n  'Language': ['English', 'Lao'],\n  'Budget': '$35 million',\n  'Box office': '$57,718,089'},\n {'url': 'https://en.wikipedia.org/wiki/Alice_(1990_film)',\n  'year': 1990,\n  'imdb_link': 'https://www.imdb.com/title/tt0099012/',\n  'title': 'Alice',\n  'Directed by': 'Woody Allen',\n  'Produced by': 'Robert Greenhut',\n  'Written by': 'Woody Allen',\n  'Starring': ['Alec Baldwin',\n   'Blythe Danner',\n   'Judy Davis',\n   'Mia Farrow',\n   'William Hurt',\n   'Keye Luke',\n   'Joe Mantegna',\n   'Bernadette Peters'],\n  'Cinematography': 'Carlo Di Palma',\n  'Edited by': 'Susan E. Morse',\n  'Distributed by': 'Orion Pictures',\n  'Release date': ['December 25, 1990', '(', '1990-12-25', ')'],\n  'Running time': '106 minutes',\n  'Country': 'United States',\n  'Language': 'English',\n  'Budget': '$12 million',\n  'Box office': '$7,331,647'},\n {'url': 'https://en.wikipedia.org/wiki/Almost_an_Angel',\n  'year': 1990,\n  'imdb_link': 'https://www.imdb.com/title/tt0099018/',\n  'title': 'Almost an Angel',\n  'Directed by': 'John Cornell',\n  'Produced by': 'John Cornell',\n  'Written by': 'Paul Hogan',\n  'Starring': ['Paul Hogan', 'Elias Koteas', 'Linda Kozlowski'],\n  'Music by': 'Maurice Jarre',\n  'Cinematography': 'Russell Boyd',\n  'Edited by': 'David Stiven',\n  'Distributed by': 'Paramount Pictures',\n  'Release date': 'December 19, 1990',\n  'Running time': '95 minutes',\n  'Country': 'US',\n  'Language': 'English',\n  'Budget': '$25 million',\n  'Box office': '$6,939,946 (USA)'}]"
     },
     "metadata": {},
     "execution_count": 68
    }
   ],
   "source": [
    "# Grabbing the first five items\n",
    "wiki_movies_raw[:5]"
   ]
  },
  {
   "cell_type": "code",
   "execution_count": 69,
   "metadata": {},
   "outputs": [
    {
     "output_type": "execute_result",
     "data": {
      "text/plain": "[{'url': 'https://en.wikipedia.org/wiki/Holmes_%26_Watson',\n  'year': 2018,\n  'imdb_link': 'https://www.imdb.com/title/tt1255919/',\n  'title': 'Holmes & Watson',\n  'Directed by': 'Etan Cohen',\n  'Produced by': ['Will Ferrell',\n   'Adam McKay',\n   'Jimmy Miller',\n   'Clayton Townsend'],\n  'Screenplay by': 'Etan Cohen',\n  'Based on': ['Sherlock Holmes',\n   'and',\n   'Dr. Watson',\n   'by',\n   'Sir Arthur Conan Doyle'],\n  'Starring': ['Will Ferrell',\n   'John C. Reilly',\n   'Rebecca Hall',\n   'Rob Brydon',\n   'Steve Coogan',\n   'Ralph Fiennes'],\n  'Music by': 'Mark Mothersbaugh',\n  'Cinematography': 'Oliver Wood',\n  'Edited by': 'Dean Zimmerman',\n  'Productioncompanies ': ['Columbia Pictures',\n   'Gary Sanchez Productions',\n   'Mosaic Media Group',\n   'Mimran Schur Pictures'],\n  'Distributed by': 'Sony Pictures Releasing',\n  'Release date': ['December 25, 2018',\n   '(',\n   '2018-12-25',\n   ')',\n   '(United States)'],\n  'Running time': '90 minutes',\n  'Country': 'United States',\n  'Language': 'English',\n  'Budget': '$42 million',\n  'Box office': '$41.9 million'},\n {'url': 'https://en.wikipedia.org/wiki/Vice_(2018_film)',\n  'year': 2018,\n  'imdb_link': 'https://www.imdb.com/title/tt6266538/',\n  'title': 'Vice',\n  'Directed by': 'Adam McKay',\n  'Produced by': ['Brad Pitt',\n   'Dede Gardner',\n   'Jeremy Kleiner',\n   'Kevin J. Messick',\n   'Will Ferrell',\n   'Adam McKay'],\n  'Written by': 'Adam McKay',\n  'Starring': ['Christian Bale',\n   'Amy Adams',\n   'Steve Carell',\n   'Sam Rockwell',\n   'Tyler Perry',\n   'Alison Pill',\n   'Lily Rabe',\n   'Jesse Plemons'],\n  'Music by': 'Nicholas Britell',\n  'Cinematography': 'Greig Fraser',\n  'Edited by': 'Hank Corwin',\n  'Productioncompany ': ['Plan B Entertainment',\n   'Gary Sanchez Productions',\n   'Annapurna Pictures'],\n  'Distributed by': 'Mirror Releasing',\n  'Release date': ['December 11, 2018',\n   '(',\n   '2018-12-11',\n   ')',\n   '(',\n   'Samuel Goldwyn Theater',\n   ')',\n   'December 25, 2018',\n   '(',\n   '2018-12-25',\n   ')',\n   '(United States)'],\n  'Running time': '132 minutes',\n  'Country': 'United States',\n  'Language': 'English',\n  'Budget': '$60 million',\n  'Box office': '$76.1 million'},\n {'url': 'https://en.wikipedia.org/wiki/On_the_Basis_of_Sex',\n  'year': 2018,\n  'imdb_link': 'https://www.imdb.com/title/tt4669788/',\n  'title': 'On the Basis of Sex',\n  'Directed by': 'Mimi Leder',\n  'Produced by': 'Robert W. Cort',\n  'Written by': 'Daniel Stiepleman',\n  'Starring': ['Felicity Jones',\n   'Armie Hammer',\n   'Justin Theroux',\n   'Sam Waterston',\n   'Kathy Bates'],\n  'Music by': 'Mychael Danna',\n  'Cinematography': 'Michael Grady',\n  'Edited by': 'Michelle Tesoro',\n  'Productioncompanies ': ['Focus Features',\n   '[1]',\n   'Participant Media',\n   '[1]',\n   'Robert Cort Productions',\n   '[1]',\n   'Alibaba Pictures',\n   '[2]'],\n  'Distributed by': 'Focus Features',\n  'Release date': ['November 8, 2018',\n   '(',\n   '2018-11-08',\n   ')',\n   '(',\n   'AFI Fest',\n   ')',\n   'December 25, 2018',\n   '(',\n   '2018-12-25',\n   ')',\n   '(United States)'],\n  'Running time': '120 minutes',\n  'Country': 'United States',\n  'Language': 'English',\n  'Budget': '$20 million',\n  'Box office': '$38.4 million'},\n {'url': 'https://en.wikipedia.org/wiki/Destroyer_(2018_film)',\n  'year': 2018,\n  'imdb_link': 'https://www.imdb.com/title/tt7137380/',\n  'title': 'Destroyer',\n  'Directed by': 'Karyn Kusama',\n  'Produced by': ['Fred Berger', 'Phil Hay', 'Matt Manfredi'],\n  'Written by': ['Phil Hay', 'Matt Manfredi'],\n  'Starring': ['Nicole Kidman',\n   'Sebastian Stan',\n   'Toby Kebbell',\n   'Tatiana Maslany',\n   'Bradley Whitford',\n   'Jade Pettyjohn',\n   'Scoot McNairy'],\n  'Music by': 'Theodore Shapiro',\n  'Cinematography': 'Julie Kirkwood',\n  'Edited by': 'Plummy Tucker',\n  'Productioncompany ': ['30West',\n   'Automatik Entertainment',\n   'Annapurna Pictures'],\n  'Distributed by': 'Mirror Releasing',\n  'Release date': ['August 31, 2018',\n   '(',\n   '2018-08-31',\n   ')',\n   '(',\n   'Telluride',\n   ')',\n   'December 25, 2018',\n   '(',\n   '2018-12-25',\n   ')',\n   '(United States)'],\n  'Running time': '123 minutes',\n  'Country': 'United States',\n  'Language': 'English',\n  'Budget': '$9 million',\n  'Box office': '$5.5 million'},\n {'url': 'https://en.wikipedia.org/wiki/Black_Mirror:_Bandersnatch',\n  'year': 2018,\n  'imdb_link': 'https://www.imdb.com/title/tt9495224/',\n  'title': 'Bandersnatch',\n  'Directed by': 'David Slade',\n  'Produced by': 'Russell McLean',\n  'Written by': 'Charlie Brooker',\n  'Starring': ['Fionn Whitehead',\n   'Will Poulter',\n   'Craig Parkinson',\n   'Alice Lowe',\n   'Asim Chaudhry'],\n  'Music by': 'Brian Reitzell',\n  'Cinematography': ['Aaron Morton', 'Jake Polonsky'],\n  'Edited by': 'Tony Kearns',\n  'Productioncompany ': ['House of Tomorrow', 'Netflix'],\n  'Distributed by': 'Netflix',\n  'Release date': ['28 December 2018', '(', '2018-12-28', ')'],\n  'Running time': 'Variable; 90 minutes for default path',\n  'Country': 'United Kingdom',\n  'Language': 'English'}]"
     },
     "metadata": {},
     "execution_count": 69
    }
   ],
   "source": [
    "# Grabbing the last five items\n",
    "wiki_movies_raw[-5:]"
   ]
  },
  {
   "cell_type": "code",
   "execution_count": 70,
   "metadata": {},
   "outputs": [
    {
     "output_type": "execute_result",
     "data": {
      "text/plain": "[{'url': 'https://en.wikipedia.org/wiki/Benji:_Off_the_Leash!',\n  'year': 2004,\n  'imdb_link': 'https://www.imdb.com/title/tt0315273/',\n  'title': 'Benji: Off the Leash!',\n  'Directed by': 'Joe Camp',\n  'Written by': 'Joe Camp',\n  'Starring': ['Benji', 'Nick Whitaker', 'Shaggy', 'Gypsy the Cockatoo'],\n  'Music by': 'Antonio di Lorenzo',\n  'Productioncompany ': 'Mulberry Square Productions',\n  'Distributed by': 'Mulberry Square Productions',\n  'Release date': ['March 26, 2004', '(', '2004-03-26', ')'],\n  'Running time': '97 min',\n  'Country': 'United States',\n  'Language': 'English',\n  'Box office': '$3,817,362'},\n {'url': 'https://en.wikipedia.org/wiki/The_Best_Thief_in_the_World',\n  'year': 2004,\n  'imdb_link': 'https://www.imdb.com/title/tt0389796/',\n  'title': 'The Best Thief in the World',\n  'Directed by': 'Jacob Kornbluth',\n  'Produced by': ['Tim Perrell', 'Nicola Usborne'],\n  'Written by': 'Jacob Kornbluth',\n  'Starring': ['Marc Rozendaal',\n   'Michael Silverman',\n   'David Warshofsky',\n   'Audra McDonald',\n   'Lois Smith'],\n  'Music by': ['Prince Paul', 'and', 'Don Newkirk'],\n  'Cinematography': 'Ben Kutchins',\n  'Edited by': 'Stephanie Sterner',\n  'Distributed by': 'Showtime Networks',\n  'Release date': ['January 16, 2004', '(', '2004-01-16', ')'],\n  'Running time': '93 minutes',\n  'Country': 'United States',\n  'Language': 'English'},\n {'url': 'https://en.wikipedia.org/wiki/Beyond_the_Sea_(2004_film)',\n  'year': 2004,\n  'imdb_link': 'https://www.imdb.com/title/tt0363473/',\n  'title': 'Beyond the Sea',\n  'Directed by': 'Kevin Spacey',\n  'Produced by': ['Kevin Spacey',\n   'Phillip Barry',\n   'Dana Brunetti',\n   'Arthur Friedman',\n   'Jan Fantl',\n   'Andy Paterson'],\n  'Written by': ['Lewis Colick', 'Kevin Spacey'],\n  'Starring': ['Kevin Spacey', 'Kate Bosworth', 'Bob Hoskins', 'John Goodman'],\n  'Music by': 'Bobby Darin',\n  'Cinematography': 'Eduardo Serra',\n  'Edited by': 'Trevor Waite',\n  'Productioncompany ': 'Trigger Street Productions',\n  'Distributed by': ['Lionsgate Films',\n   '(USA)',\n   'Entertainment Film Distributors',\n   '(UK)',\n   'GAGA',\n   '(Japan)',\n   'Maple Pictures',\n   '(Canada)'],\n  'Release date': ['December 17, 2004', '(', '2004-12-17', ')'],\n  'Running time': '118 minutes',\n  'Country': 'United States',\n  'Language': 'English',\n  'Budget': '$25 million',\n  'Box office': '$8.4 million'},\n {'url': 'https://en.wikipedia.org/wiki/The_Big_Bounce_(2004_film)',\n  'year': 2004,\n  'imdb_link': 'https://www.imdb.com/title/tt0315824/',\n  'title': 'The Big Bounce',\n  'Directed by': 'George Armitage',\n  'Produced by': ['George Armitage', 'Steve Bing'],\n  'Screenplay by': 'Sebastian Gutierrez',\n  'Based on': ['The Big Bounce', 'by', 'Elmore Leonard'],\n  'Starring': ['Owen Wilson',\n   'Charlie Sheen',\n   'Morgan Freeman',\n   'Sara Foster',\n   'Gary Sinise'],\n  'Music by': 'George S. Clinton',\n  'Cinematography': 'Jeffrey L. Kimball',\n  'Edited by': 'Barry Malkin',\n  'Productioncompany ': 'Shangri-La Entertainment',\n  'Distributed by': 'Warner Bros. Pictures',\n  'Release date': ['January 30, 2004', '(', '2004-01-30', ')'],\n  'Running time': '88 minutes',\n  'Language': 'English',\n  'Budget': '$50 million',\n  'Box office': '$6.8 million'},\n {'url': 'https://en.wikipedia.org/wiki/Birth_(film)',\n  'year': 2004,\n  'imdb_link': 'https://www.imdb.com/title/tt0337876/',\n  'title': 'Birth',\n  'Directed by': 'Jonathan Glazer',\n  'Produced by': ['Lizie Gower', 'Nick Morris', 'Jean-Louis Piel'],\n  'Written by': ['Jean-Claude Carrière', 'Milo Addica', 'Jonathan Glazer'],\n  'Starring': ['Nicole Kidman',\n   'Cameron Bright',\n   'Danny Huston',\n   'Lauren Bacall'],\n  'Music by': 'Alexandre Desplat',\n  'Cinematography': 'Harris Savides',\n  'Edited by': ['Sam Sneade', 'Claus Wehlisch'],\n  'Distributed by': 'New Line Cinema',\n  'Release date': ['November 8, 2004', '(', '2004-11-08', ')'],\n  'Running time': '96 minutes',\n  'Country': 'United States',\n  'Language': 'English',\n  'Budget': '$20 million',\n  'Box office': '$23.9 million'}]"
     },
     "metadata": {},
     "execution_count": 70
    }
   ],
   "source": [
    "# Some records in the middle\n",
    "wiki_movies_raw[3600:3605]"
   ]
  },
  {
   "cell_type": "code",
   "execution_count": 71,
   "metadata": {},
   "outputs": [],
   "source": [
    "kaggle_metadata = pd.read_csv(f'{file_dir}movies_metadata.csv')\n",
    "ratings = pd.read_csv(f'{file_dir}ratings.csv')"
   ]
  },
  {
   "cell_type": "code",
   "execution_count": 72,
   "metadata": {},
   "outputs": [
    {
     "output_type": "execute_result",
     "data": {
      "text/plain": "       adult                              belongs_to_collection   budget  \\\n9820   False  {'id': 101646, 'name': 'Vares Collection', 'po...        0   \n11659  False  {'id': 100965, 'name': 'Atlantis Collection', ...        0   \n2453   False                                                NaN        0   \n4085   False                                                NaN  7920000   \n29004  False                                                NaN        0   \n\n                                                  genres  \\\n9820   [{'id': 28, 'name': 'Action'}, {'id': 35, 'nam...   \n11659  [{'id': 14, 'name': 'Fantasy'}, {'id': 16, 'na...   \n2453   [{'id': 16, 'name': 'Animation'}, {'id': 10751...   \n4085                   [{'id': 9648, 'name': 'Mystery'}]   \n29004                     [{'id': 35, 'name': 'Comedy'}]   \n\n                                                homepage     id    imdb_id  \\\n9820                                                 NaN  37988  tt0372594   \n11659  http://disneydvd.disney.go.com/atlantis-milos-...   8965  tt0344864   \n2453                                                 NaN  16508  tt0187819   \n4085                                                 NaN   4192  tt0077413   \n29004                                                NaN   1915  tt0102397   \n\n      original_language           original_title  \\\n9820                 fi   Vares – Yksityisetsivä   \n11659                en  Atlantis: Milo's Return   \n2453                 en         Doug's 1st Movie   \n4085                 en        Death on the Nile   \n29004                de             Manta, Manta   \n\n                                                overview  ... release_date  \\\n9820   Vares, a film noir comedy from Finland, is yet...  ...   2004-07-22   \n11659  Three different stories come to life in this s...  ...   2003-02-25   \n2453   Doug and his pal Skeeter set's out to find the...  ...   1999-03-26   \n4085   As Hercule Poirot enjoys a luxurious cruise do...  ...   1978-10-06   \n29004  A not so clever guy called Berti with a Opel M...  ...   1991-10-02   \n\n          revenue runtime                                   spoken_languages  \\\n9820          0.0    95.0             [{'iso_639_1': 'fi', 'name': 'suomi'}]   \n11659         0.0    70.0           [{'iso_639_1': 'en', 'name': 'English'}]   \n2453          0.0    77.0           [{'iso_639_1': 'en', 'name': 'English'}]   \n4085   14560084.0   140.0  [{'iso_639_1': 'de', 'name': 'Deutsch'}, {'iso...   \n29004         0.0    91.0  [{'iso_639_1': 'de', 'name': 'Deutsch'}, {'iso...   \n\n         status                                            tagline  \\\n9820   Released  That summer a woman was running with the devil...   \n11659  Released                                                NaN   \n2453   Released                                   You'll Dig Doug!   \n4085   Released  A murderer strikes on board the luxury Nile st...   \n29004  Released                                                NaN   \n\n                         title  video vote_average vote_count  \n9820        Vares: Private Eye  False          6.2       16.0  \n11659  Atlantis: Milo's Return  False          5.4      166.0  \n2453          Doug's 1st Movie  False          5.4       22.0  \n4085         Death on the Nile  False          6.7      121.0  \n29004             Manta, Manta  False          4.9       26.0  \n\n[5 rows x 24 columns]",
      "text/html": "<div>\n<style scoped>\n    .dataframe tbody tr th:only-of-type {\n        vertical-align: middle;\n    }\n\n    .dataframe tbody tr th {\n        vertical-align: top;\n    }\n\n    .dataframe thead th {\n        text-align: right;\n    }\n</style>\n<table border=\"1\" class=\"dataframe\">\n  <thead>\n    <tr style=\"text-align: right;\">\n      <th></th>\n      <th>adult</th>\n      <th>belongs_to_collection</th>\n      <th>budget</th>\n      <th>genres</th>\n      <th>homepage</th>\n      <th>id</th>\n      <th>imdb_id</th>\n      <th>original_language</th>\n      <th>original_title</th>\n      <th>overview</th>\n      <th>...</th>\n      <th>release_date</th>\n      <th>revenue</th>\n      <th>runtime</th>\n      <th>spoken_languages</th>\n      <th>status</th>\n      <th>tagline</th>\n      <th>title</th>\n      <th>video</th>\n      <th>vote_average</th>\n      <th>vote_count</th>\n    </tr>\n  </thead>\n  <tbody>\n    <tr>\n      <th>9820</th>\n      <td>False</td>\n      <td>{'id': 101646, 'name': 'Vares Collection', 'po...</td>\n      <td>0</td>\n      <td>[{'id': 28, 'name': 'Action'}, {'id': 35, 'nam...</td>\n      <td>NaN</td>\n      <td>37988</td>\n      <td>tt0372594</td>\n      <td>fi</td>\n      <td>Vares – Yksityisetsivä</td>\n      <td>Vares, a film noir comedy from Finland, is yet...</td>\n      <td>...</td>\n      <td>2004-07-22</td>\n      <td>0.0</td>\n      <td>95.0</td>\n      <td>[{'iso_639_1': 'fi', 'name': 'suomi'}]</td>\n      <td>Released</td>\n      <td>That summer a woman was running with the devil...</td>\n      <td>Vares: Private Eye</td>\n      <td>False</td>\n      <td>6.2</td>\n      <td>16.0</td>\n    </tr>\n    <tr>\n      <th>11659</th>\n      <td>False</td>\n      <td>{'id': 100965, 'name': 'Atlantis Collection', ...</td>\n      <td>0</td>\n      <td>[{'id': 14, 'name': 'Fantasy'}, {'id': 16, 'na...</td>\n      <td>http://disneydvd.disney.go.com/atlantis-milos-...</td>\n      <td>8965</td>\n      <td>tt0344864</td>\n      <td>en</td>\n      <td>Atlantis: Milo's Return</td>\n      <td>Three different stories come to life in this s...</td>\n      <td>...</td>\n      <td>2003-02-25</td>\n      <td>0.0</td>\n      <td>70.0</td>\n      <td>[{'iso_639_1': 'en', 'name': 'English'}]</td>\n      <td>Released</td>\n      <td>NaN</td>\n      <td>Atlantis: Milo's Return</td>\n      <td>False</td>\n      <td>5.4</td>\n      <td>166.0</td>\n    </tr>\n    <tr>\n      <th>2453</th>\n      <td>False</td>\n      <td>NaN</td>\n      <td>0</td>\n      <td>[{'id': 16, 'name': 'Animation'}, {'id': 10751...</td>\n      <td>NaN</td>\n      <td>16508</td>\n      <td>tt0187819</td>\n      <td>en</td>\n      <td>Doug's 1st Movie</td>\n      <td>Doug and his pal Skeeter set's out to find the...</td>\n      <td>...</td>\n      <td>1999-03-26</td>\n      <td>0.0</td>\n      <td>77.0</td>\n      <td>[{'iso_639_1': 'en', 'name': 'English'}]</td>\n      <td>Released</td>\n      <td>You'll Dig Doug!</td>\n      <td>Doug's 1st Movie</td>\n      <td>False</td>\n      <td>5.4</td>\n      <td>22.0</td>\n    </tr>\n    <tr>\n      <th>4085</th>\n      <td>False</td>\n      <td>NaN</td>\n      <td>7920000</td>\n      <td>[{'id': 9648, 'name': 'Mystery'}]</td>\n      <td>NaN</td>\n      <td>4192</td>\n      <td>tt0077413</td>\n      <td>en</td>\n      <td>Death on the Nile</td>\n      <td>As Hercule Poirot enjoys a luxurious cruise do...</td>\n      <td>...</td>\n      <td>1978-10-06</td>\n      <td>14560084.0</td>\n      <td>140.0</td>\n      <td>[{'iso_639_1': 'de', 'name': 'Deutsch'}, {'iso...</td>\n      <td>Released</td>\n      <td>A murderer strikes on board the luxury Nile st...</td>\n      <td>Death on the Nile</td>\n      <td>False</td>\n      <td>6.7</td>\n      <td>121.0</td>\n    </tr>\n    <tr>\n      <th>29004</th>\n      <td>False</td>\n      <td>NaN</td>\n      <td>0</td>\n      <td>[{'id': 35, 'name': 'Comedy'}]</td>\n      <td>NaN</td>\n      <td>1915</td>\n      <td>tt0102397</td>\n      <td>de</td>\n      <td>Manta, Manta</td>\n      <td>A not so clever guy called Berti with a Opel M...</td>\n      <td>...</td>\n      <td>1991-10-02</td>\n      <td>0.0</td>\n      <td>91.0</td>\n      <td>[{'iso_639_1': 'de', 'name': 'Deutsch'}, {'iso...</td>\n      <td>Released</td>\n      <td>NaN</td>\n      <td>Manta, Manta</td>\n      <td>False</td>\n      <td>4.9</td>\n      <td>26.0</td>\n    </tr>\n  </tbody>\n</table>\n<p>5 rows × 24 columns</p>\n</div>"
     },
     "metadata": {},
     "execution_count": 72
    }
   ],
   "source": [
    "kaggle_metadata.sample(n=5)"
   ]
  },
  {
   "cell_type": "code",
   "execution_count": 73,
   "metadata": {},
   "outputs": [
    {
     "output_type": "execute_result",
     "data": {
      "text/plain": "          userId  movieId  rating   timestamp\n20531576  213308     3256     2.5  1336317872\n24169369  251078     2194     4.0   939138813\n3464193    36048     4495     3.0   997380184\n10397667  107336     4973     5.0  1009308971\n25182492  262048     8781     4.5  1125946282",
      "text/html": "<div>\n<style scoped>\n    .dataframe tbody tr th:only-of-type {\n        vertical-align: middle;\n    }\n\n    .dataframe tbody tr th {\n        vertical-align: top;\n    }\n\n    .dataframe thead th {\n        text-align: right;\n    }\n</style>\n<table border=\"1\" class=\"dataframe\">\n  <thead>\n    <tr style=\"text-align: right;\">\n      <th></th>\n      <th>userId</th>\n      <th>movieId</th>\n      <th>rating</th>\n      <th>timestamp</th>\n    </tr>\n  </thead>\n  <tbody>\n    <tr>\n      <th>20531576</th>\n      <td>213308</td>\n      <td>3256</td>\n      <td>2.5</td>\n      <td>1336317872</td>\n    </tr>\n    <tr>\n      <th>24169369</th>\n      <td>251078</td>\n      <td>2194</td>\n      <td>4.0</td>\n      <td>939138813</td>\n    </tr>\n    <tr>\n      <th>3464193</th>\n      <td>36048</td>\n      <td>4495</td>\n      <td>3.0</td>\n      <td>997380184</td>\n    </tr>\n    <tr>\n      <th>10397667</th>\n      <td>107336</td>\n      <td>4973</td>\n      <td>5.0</td>\n      <td>1009308971</td>\n    </tr>\n    <tr>\n      <th>25182492</th>\n      <td>262048</td>\n      <td>8781</td>\n      <td>4.5</td>\n      <td>1125946282</td>\n    </tr>\n  </tbody>\n</table>\n</div>"
     },
     "metadata": {},
     "execution_count": 73
    }
   ],
   "source": [
    "ratings.sample(n=5)"
   ]
  },
  {
   "cell_type": "code",
   "execution_count": 74,
   "metadata": {},
   "outputs": [
    {
     "output_type": "execute_result",
     "data": {
      "text/plain": "                                                 url    year  \\\n0  https://en.wikipedia.org/wiki/The_Adventures_o...  1990.0   \n1  https://en.wikipedia.org/wiki/After_Dark,_My_S...  1990.0   \n2   https://en.wikipedia.org/wiki/Air_America_(film)  1990.0   \n3    https://en.wikipedia.org/wiki/Alice_(1990_film)  1990.0   \n4      https://en.wikipedia.org/wiki/Almost_an_Angel  1990.0   \n\n                               imdb_link                            title  \\\n0  https://www.imdb.com/title/tt0098987/  The Adventures of Ford Fairlane   \n1  https://www.imdb.com/title/tt0098994/             After Dark, My Sweet   \n2  https://www.imdb.com/title/tt0099005/                      Air America   \n3  https://www.imdb.com/title/tt0099012/                            Alice   \n4  https://www.imdb.com/title/tt0099018/                  Almost an Angel   \n\n          Directed by                  Produced by  \\\n0        Renny Harlin   [Steve Perry, Joel Silver]   \n1         James Foley  [Ric Kidney, Robert Redlin]   \n2  Roger Spottiswoode               Daniel Melnick   \n3         Woody Allen              Robert Greenhut   \n4        John Cornell                 John Cornell   \n\n                                Screenplay by                     Story by  \\\n0  [David Arnott, James Cappe, Daniel Waters]  [David Arnott, James Cappe]   \n1                [James Foley, Robert Redlin]                          NaN   \n2                  [John Eskow, Richard Rush]                          NaN   \n3                                         NaN                          NaN   \n4                                         NaN                          NaN   \n\n                                            Based on  \\\n0                        [Characters, by Rex Weiner]   \n1  [the novel, After Dark, My Sweet, by, Jim Thom...   \n2             [Air America, by, Christopher Robbins]   \n3                                                NaN   \n4                                                NaN   \n\n                                            Starring  ... Predecessor  \\\n0  [Andrew Dice Clay, Wayne Newton, Priscilla Pre...  ...         NaN   \n1  [Jason Patric, Rachel Ward, Bruce Dern, George...  ...         NaN   \n2  [Mel Gibson, Robert Downey Jr., Nancy Travis, ...  ...         NaN   \n3  [Alec Baldwin, Blythe Danner, Judy Davis, Mia ...  ...         NaN   \n4        [Paul Hogan, Elias Koteas, Linda Kozlowski]  ...         NaN   \n\n  Founders Area served Products Services Russian Hebrew Revenue  \\\n0      NaN         NaN      NaN      NaN     NaN    NaN     NaN   \n1      NaN         NaN      NaN      NaN     NaN    NaN     NaN   \n2      NaN         NaN      NaN      NaN     NaN    NaN     NaN   \n3      NaN         NaN      NaN      NaN     NaN    NaN     NaN   \n4      NaN         NaN      NaN      NaN     NaN    NaN     NaN   \n\n  Operating income Polish  \n0              NaN    NaN  \n1              NaN    NaN  \n2              NaN    NaN  \n3              NaN    NaN  \n4              NaN    NaN  \n\n[5 rows x 193 columns]",
      "text/html": "<div>\n<style scoped>\n    .dataframe tbody tr th:only-of-type {\n        vertical-align: middle;\n    }\n\n    .dataframe tbody tr th {\n        vertical-align: top;\n    }\n\n    .dataframe thead th {\n        text-align: right;\n    }\n</style>\n<table border=\"1\" class=\"dataframe\">\n  <thead>\n    <tr style=\"text-align: right;\">\n      <th></th>\n      <th>url</th>\n      <th>year</th>\n      <th>imdb_link</th>\n      <th>title</th>\n      <th>Directed by</th>\n      <th>Produced by</th>\n      <th>Screenplay by</th>\n      <th>Story by</th>\n      <th>Based on</th>\n      <th>Starring</th>\n      <th>...</th>\n      <th>Predecessor</th>\n      <th>Founders</th>\n      <th>Area served</th>\n      <th>Products</th>\n      <th>Services</th>\n      <th>Russian</th>\n      <th>Hebrew</th>\n      <th>Revenue</th>\n      <th>Operating income</th>\n      <th>Polish</th>\n    </tr>\n  </thead>\n  <tbody>\n    <tr>\n      <th>0</th>\n      <td>https://en.wikipedia.org/wiki/The_Adventures_o...</td>\n      <td>1990.0</td>\n      <td>https://www.imdb.com/title/tt0098987/</td>\n      <td>The Adventures of Ford Fairlane</td>\n      <td>Renny Harlin</td>\n      <td>[Steve Perry, Joel Silver]</td>\n      <td>[David Arnott, James Cappe, Daniel Waters]</td>\n      <td>[David Arnott, James Cappe]</td>\n      <td>[Characters, by Rex Weiner]</td>\n      <td>[Andrew Dice Clay, Wayne Newton, Priscilla Pre...</td>\n      <td>...</td>\n      <td>NaN</td>\n      <td>NaN</td>\n      <td>NaN</td>\n      <td>NaN</td>\n      <td>NaN</td>\n      <td>NaN</td>\n      <td>NaN</td>\n      <td>NaN</td>\n      <td>NaN</td>\n      <td>NaN</td>\n    </tr>\n    <tr>\n      <th>1</th>\n      <td>https://en.wikipedia.org/wiki/After_Dark,_My_S...</td>\n      <td>1990.0</td>\n      <td>https://www.imdb.com/title/tt0098994/</td>\n      <td>After Dark, My Sweet</td>\n      <td>James Foley</td>\n      <td>[Ric Kidney, Robert Redlin]</td>\n      <td>[James Foley, Robert Redlin]</td>\n      <td>NaN</td>\n      <td>[the novel, After Dark, My Sweet, by, Jim Thom...</td>\n      <td>[Jason Patric, Rachel Ward, Bruce Dern, George...</td>\n      <td>...</td>\n      <td>NaN</td>\n      <td>NaN</td>\n      <td>NaN</td>\n      <td>NaN</td>\n      <td>NaN</td>\n      <td>NaN</td>\n      <td>NaN</td>\n      <td>NaN</td>\n      <td>NaN</td>\n      <td>NaN</td>\n    </tr>\n    <tr>\n      <th>2</th>\n      <td>https://en.wikipedia.org/wiki/Air_America_(film)</td>\n      <td>1990.0</td>\n      <td>https://www.imdb.com/title/tt0099005/</td>\n      <td>Air America</td>\n      <td>Roger Spottiswoode</td>\n      <td>Daniel Melnick</td>\n      <td>[John Eskow, Richard Rush]</td>\n      <td>NaN</td>\n      <td>[Air America, by, Christopher Robbins]</td>\n      <td>[Mel Gibson, Robert Downey Jr., Nancy Travis, ...</td>\n      <td>...</td>\n      <td>NaN</td>\n      <td>NaN</td>\n      <td>NaN</td>\n      <td>NaN</td>\n      <td>NaN</td>\n      <td>NaN</td>\n      <td>NaN</td>\n      <td>NaN</td>\n      <td>NaN</td>\n      <td>NaN</td>\n    </tr>\n    <tr>\n      <th>3</th>\n      <td>https://en.wikipedia.org/wiki/Alice_(1990_film)</td>\n      <td>1990.0</td>\n      <td>https://www.imdb.com/title/tt0099012/</td>\n      <td>Alice</td>\n      <td>Woody Allen</td>\n      <td>Robert Greenhut</td>\n      <td>NaN</td>\n      <td>NaN</td>\n      <td>NaN</td>\n      <td>[Alec Baldwin, Blythe Danner, Judy Davis, Mia ...</td>\n      <td>...</td>\n      <td>NaN</td>\n      <td>NaN</td>\n      <td>NaN</td>\n      <td>NaN</td>\n      <td>NaN</td>\n      <td>NaN</td>\n      <td>NaN</td>\n      <td>NaN</td>\n      <td>NaN</td>\n      <td>NaN</td>\n    </tr>\n    <tr>\n      <th>4</th>\n      <td>https://en.wikipedia.org/wiki/Almost_an_Angel</td>\n      <td>1990.0</td>\n      <td>https://www.imdb.com/title/tt0099018/</td>\n      <td>Almost an Angel</td>\n      <td>John Cornell</td>\n      <td>John Cornell</td>\n      <td>NaN</td>\n      <td>NaN</td>\n      <td>NaN</td>\n      <td>[Paul Hogan, Elias Koteas, Linda Kozlowski]</td>\n      <td>...</td>\n      <td>NaN</td>\n      <td>NaN</td>\n      <td>NaN</td>\n      <td>NaN</td>\n      <td>NaN</td>\n      <td>NaN</td>\n      <td>NaN</td>\n      <td>NaN</td>\n      <td>NaN</td>\n      <td>NaN</td>\n    </tr>\n  </tbody>\n</table>\n<p>5 rows × 193 columns</p>\n</div>"
     },
     "metadata": {},
     "execution_count": 74
    }
   ],
   "source": [
    "wiki_movies_df = pd.DataFrame(wiki_movies_raw)\n",
    "wiki_movies_df.head()"
   ]
  },
  {
   "cell_type": "code",
   "execution_count": 75,
   "metadata": {},
   "outputs": [
    {
     "output_type": "execute_result",
     "data": {
      "text/plain": "['url',\n 'year',\n 'imdb_link',\n 'title',\n 'Directed by',\n 'Produced by',\n 'Screenplay by',\n 'Story by',\n 'Based on',\n 'Starring',\n 'Narrated by',\n 'Music by',\n 'Cinematography',\n 'Edited by',\n 'Productioncompany ',\n 'Distributed by',\n 'Release date',\n 'Running time',\n 'Country',\n 'Language',\n 'Budget',\n 'Box office',\n 'Written by',\n 'Genre',\n 'Theme music composer',\n 'Country of origin',\n 'Original language(s)',\n 'Producer(s)',\n 'Editor(s)',\n 'Production company(s)',\n 'Original network',\n 'Original release',\n 'Productioncompanies ',\n 'Executive producer(s)',\n 'Production location(s)',\n 'Distributor',\n 'Picture format',\n 'Audio format',\n 'Voices of',\n 'Followed by',\n 'Composer(s)',\n 'Created by',\n 'Also known as',\n 'Opening theme',\n 'No. of episodes',\n 'Preceded by',\n 'Author',\n 'Publisher',\n 'Publication date',\n 'Media type',\n 'Pages',\n 'ISBN',\n 'OCLC',\n 'LC Class',\n 'Cover artist',\n 'Series',\n 'Set in',\n 'Adaptation by',\n 'Suggested by',\n 'Biographical data',\n 'Born',\n 'Died',\n 'Resting place',\n 'Occupation',\n 'Years active',\n 'Spouse(s)',\n 'Children',\n 'Parent(s)',\n 'Genres',\n 'Instruments',\n 'Labels',\n 'Website',\n 'Traditional',\n 'Mandarin',\n 'Type',\n 'Industry',\n 'Fate',\n 'Founded',\n 'Founder',\n 'Headquarters',\n 'Parent',\n 'Released',\n 'Recorded',\n 'Venue',\n 'Length',\n 'Label',\n 'Director',\n 'Producer',\n 'Area',\n 'Coordinates',\n 'Status',\n 'Opening date',\n 'Closing date',\n 'Replaced',\n 'Replaced by',\n 'Name',\n 'Attraction type',\n 'Music',\n 'Duration',\n 'Simplified Chinese',\n 'Traditional Chinese',\n 'Hanyu Pinyin',\n 'Literal meaning',\n 'Transcriptions',\n 'Bopomofo',\n 'Gwoyeu Romatzyh',\n 'Wade–Giles',\n 'IPA',\n 'Yale Romanization',\n 'Jyutping',\n 'Hokkien POJ',\n 'Animation by',\n 'Color process',\n 'Engine(s)',\n 'Genre(s)',\n 'Actor control',\n 'Production company',\n 'Release(s)',\n 'Format(s)',\n 'Simplified',\n 'Characters',\n 'Date premiered',\n 'Place premiered',\n 'Setting',\n 'Original language',\n 'Subject',\n 'Published',\n 'Dewey Decimal',\n 'Text',\n 'Illustrator',\n 'Original title',\n 'Published in English',\n 'French',\n 'Developed by',\n 'Ending theme',\n 'No. of seasons',\n 'Nationality',\n 'Portrayed by',\n 'Alias',\n 'Species',\n 'Gender',\n 'Family',\n 'Alma mater',\n 'Camera setup',\n 'Novel(s)',\n 'Comics',\n 'Film(s)',\n 'Screen story by',\n 'Hangul',\n 'Revised Romanization',\n 'McCune–Reischauer',\n 'Developer(s)',\n 'Publisher(s)',\n 'Designer(s)',\n 'Programmer(s)',\n 'Artist(s)',\n 'Writer(s)',\n 'Engine',\n 'Platform(s)',\n 'Release',\n 'Mode(s)',\n 'Original work',\n 'Television series',\n 'Japanese',\n 'Hepburn',\n 'Literally',\n 'Cantonese',\n 'Full name',\n 'Height',\n 'Seasons',\n 'Chinese',\n 'Other names',\n 'Relatives',\n 'Yiddish',\n 'Formerly',\n 'Key people',\n 'Total assets',\n 'Owner',\n 'Number of employees',\n 'Divisions',\n 'Subsidiaries',\n 'Arabic',\n 'Romanized',\n 'Predecessor',\n 'Founders',\n 'Area served',\n 'Products',\n 'Services',\n 'Russian',\n 'Hebrew',\n 'Revenue',\n 'Operating income',\n 'Polish']"
     },
     "metadata": {},
     "execution_count": 75
    }
   ],
   "source": [
    "wiki_movies_df.columns.to_list()"
   ]
  },
  {
   "cell_type": "code",
   "execution_count": 76,
   "metadata": {},
   "outputs": [
    {
     "output_type": "execute_result",
     "data": {
      "text/plain": "7080"
     },
     "metadata": {},
     "execution_count": 76
    }
   ],
   "source": [
    "wiki_movies = [movie for movie in wiki_movies_raw\n",
    "               if ('Director' in movie or 'Directed by' in movie)\n",
    "                   and 'imdb_link' in movie]\n",
    "len(wiki_movies)"
   ]
  },
  {
   "cell_type": "code",
   "execution_count": 77,
   "metadata": {},
   "outputs": [
    {
     "output_type": "execute_result",
     "data": {
      "text/plain": "7076"
     },
     "metadata": {},
     "execution_count": 77
    }
   ],
   "source": [
    "wiki_movies = [movie for movie in wiki_movies_raw\n",
    "               if ('Director' in movie or 'Directed by' in movie)\n",
    "                   and 'imdb_link' in movie\n",
    "                   and 'No. of episodes' not in movie]\n",
    "len(wiki_movies)"
   ]
  },
  {
   "cell_type": "code",
   "execution_count": 78,
   "metadata": {},
   "outputs": [],
   "source": [
    "# Setting up the basic fucntion.\n",
    "def clean_movie(movie):\n",
    "    movie_copy = dict(movie)\n",
    "    return movie"
   ]
  },
  {
   "cell_type": "code",
   "execution_count": 79,
   "metadata": {
    "tags": []
   },
   "outputs": [
    {
     "output_type": "stream",
     "name": "stdout",
     "text": "url    year                              imdb_link       title    Directed by                                                                    Produced by                                       Screenplay by                                                                              Story by Based on                                                                                                                                                                                     Starring Narrated by         Music by    Cinematography           Edited by                                          Productioncompany                                      Distributed by                                                                                                                                   Release date Running time            Country           Language      Budget     Box office                    Written by Genre Theme music composer Country of origin Original language(s) Producer(s) Editor(s) Production company(s) Original network Original release Productioncompanies  Executive producer(s) Production location(s) Distributor Picture format Audio format Voices of Followed by Composer(s) Created by Also known as Opening theme No. of episodes Preceded by Author Publisher Publication date Media type Pages ISBN OCLC LC Class Cover artist Series Set in Adaptation by Suggested by Biographical data Born Died Resting place Occupation Years active Spouse(s) Children Parent(s) Genres Instruments Labels Website Traditional Mandarin Type Industry Fate Founded Founder Headquarters Parent Released Recorded Venue Length Label Director Producer Area Coordinates Status Opening date Closing date Replaced Replaced by Name Attraction type Music Duration Simplified Chinese Traditional Chinese Hanyu Pinyin Literal meaning Transcriptions Bopomofo Gwoyeu Romatzyh Wade–Giles  IPA Yale Romanization Jyutping Hokkien POJ Animation by Color process Engine(s) Genre(s) Actor control Production company Release(s) Format(s) Simplified Characters Date premiered Place premiered Setting Original language Subject Published Dewey Decimal Text Illustrator Original title Published in English French Developed by Ending theme No. of seasons Nationality Portrayed by Alias Species Gender Family Alma mater Camera setup Novel(s) Comics Film(s) Screen story by Hangul Revised Romanization McCune–Reischauer Developer(s) Publisher(s) Designer(s) Programmer(s) Artist(s) Writer(s) Engine Platform(s) Release Mode(s) Original work Television series Japanese Hepburn    Literally Cantonese Full name Height Seasons Chinese Other names Relatives Yiddish Formerly Key people Total assets Owner Number of employees Divisions Subsidiaries       Arabic        Romanized Predecessor Founders Area served Products Services Russian Hebrew Revenue Operating income Polish\n7060  https://en.wikipedia.org/wiki/The_Insult_(film)  2018.0  https://www.imdb.com/title/tt7048622/  The Insult   Ziad Doueiri  [Rachid Bouchareb, Jean Bréhat, Julie Gayet, Antoun Sehnaoui, Nadia Turincev]                                                 NaN                                                                                   NaN      NaN                                                                                                                                                                 [Adel Karam, Kamel El Basha]         NaN      Éric Neveux  Tommaso Fiorilli  Dominique Marcombe  [Ezekiel Films, Tessalit Productions, Rouge International]  [Diaphana Films, (France), Italia Film, (Lebanon]  [31 August 2017, (, 2017-08-31, ), (, Venice, ), 14 September 2017, (, 2017-09-14, ), (Lebanon), 31 January 2018, (, 2018-01-31, ), (France)]  112 minutes  [France, Lebanon]    Lebanese Arabic         NaN   $1.6 million  [Ziad Doueiri, Joelle Touma]   NaN                  NaN               NaN                  NaN         NaN       NaN                   NaN              NaN              NaN                  NaN                   NaN                    NaN         NaN            NaN          NaN       NaN         NaN         NaN        NaN           NaN           NaN             NaN         NaN    NaN       NaN              NaN        NaN   NaN  NaN  NaN      NaN          NaN    NaN    NaN           NaN          NaN               NaN  NaN  NaN           NaN        NaN          NaN       NaN      NaN       NaN    NaN         NaN    NaN     NaN         NaN      NaN  NaN      NaN  NaN     NaN     NaN          NaN    NaN      NaN      NaN   NaN    NaN   NaN      NaN      NaN  NaN         NaN    NaN          NaN          NaN      NaN         NaN  NaN             NaN   NaN      NaN                NaN                 NaN          NaN             NaN            NaN      NaN             NaN        NaN  NaN               NaN      NaN         NaN          NaN           NaN       NaN      NaN           NaN                NaN        NaN       NaN        NaN        NaN            NaN             NaN     NaN               NaN     NaN       NaN           NaN  NaN         NaN            NaN                  NaN    NaN          NaN          NaN            NaN         NaN          NaN   NaN     NaN    NaN    NaN        NaN          NaN      NaN    NaN     NaN             NaN    NaN                  NaN               NaN          NaN          NaN         NaN           NaN       NaN       NaN    NaN         NaN     NaN     NaN           NaN               NaN      NaN     NaN  Case No. 23       NaN       NaN    NaN     NaN     NaN         NaN       NaN     NaN      NaN        NaN          NaN   NaN                 NaN       NaN          NaN  قضية رقم ٢٣  Qadiyya raqm 23         NaN      NaN         NaN      NaN      NaN     NaN    NaN     NaN              NaN    NaN\n7293   https://en.wikipedia.org/wiki/Capernaum_(film)  2018.0  https://www.imdb.com/title/tt8267604/   Capernaum  Nadine Labaki                                                [Michel Merkt, Khaled Mouzanar]  [Nadine Labaki, Jihad Hojaily, Michelle Keserwany]  [Georges Khabbaz, Nadine Labaki, Michelle Keserwany, Jihad Hojaily, Khaled Mouzanar]      NaN  [Zain Al Rafeea, Yordanos Shiferaw, Boluwatife Bankole, Kawthar Al Haddad, Fadi Kamel Youssef, Nour el Husseini, Alaa Chouchnieh, Cedra Izam, Nadine Labaki, Joseph Jimbazian, Farah Hasno]         NaN  Khaled Mouzanar  Christopher Aoun     Konstantin Bock                                                  Mooz Films                             Sony Pictures Classics                                                  [17 May 2018, (, 2018-05-17, ), (, Cannes, ), 20 September 2018, (, 2018-09-20, ), (Lebanon)]  126 minutes            Lebanon  [Arabic, Amharic]  $4 million  $68.6 million                           NaN   NaN                  NaN               NaN                  NaN         NaN       NaN                   NaN              NaN              NaN                  NaN                   NaN                    NaN         NaN            NaN          NaN       NaN         NaN         NaN        NaN           NaN           NaN             NaN         NaN    NaN       NaN              NaN        NaN   NaN  NaN  NaN      NaN          NaN    NaN    NaN           NaN          NaN               NaN  NaN  NaN           NaN        NaN          NaN       NaN      NaN       NaN    NaN         NaN    NaN     NaN         NaN      NaN  NaN      NaN  NaN     NaN     NaN          NaN    NaN      NaN      NaN   NaN    NaN   NaN      NaN      NaN  NaN         NaN    NaN          NaN          NaN      NaN         NaN  NaN             NaN   NaN      NaN                NaN                 NaN          NaN             NaN            NaN      NaN             NaN        NaN  NaN               NaN      NaN         NaN          NaN           NaN       NaN      NaN           NaN                NaN        NaN       NaN        NaN        NaN            NaN             NaN     NaN               NaN     NaN       NaN           NaN  NaN         NaN            NaN                  NaN    NaN          NaN          NaN            NaN         NaN          NaN   NaN     NaN    NaN    NaN        NaN          NaN      NaN    NaN     NaN             NaN    NaN                  NaN               NaN          NaN          NaN         NaN           NaN       NaN       NaN    NaN         NaN     NaN     NaN           NaN               NaN      NaN     NaN          NaN       NaN       NaN    NaN     NaN     NaN         NaN       NaN     NaN      NaN        NaN          NaN   NaN                 NaN       NaN          NaN    کفرناحوم‎              NaN         NaN      NaN         NaN      NaN      NaN     NaN    NaN     NaN              NaN    NaN\n"
    }
   ],
   "source": [
    "temp_df = wiki_movies_df[wiki_movies_df['Arabic'].notnull()]\n",
    "print(temp_df.to_string())"
   ]
  },
  {
   "cell_type": "code",
   "execution_count": 80,
   "metadata": {},
   "outputs": [
    {
     "output_type": "execute_result",
     "data": {
      "text/plain": "7060    https://en.wikipedia.org/wiki/The_Insult_(film)\n7293     https://en.wikipedia.org/wiki/Capernaum_(film)\nName: url, dtype: object"
     },
     "metadata": {},
     "execution_count": 80
    }
   ],
   "source": [
    "# https://en.wikipedia.org/wiki/The_Insult_(film)\n",
    "wiki_movies_df[wiki_movies_df['Arabic'].notnull()]['url']"
   ]
  },
  {
   "cell_type": "code",
   "execution_count": 81,
   "metadata": {},
   "outputs": [],
   "source": [
    "# wiki_movies_df['Also known as'] != 'NaN'\n",
    "# wiki_movies_new_df = wiki_movies_df[wiki_movies_df['Also known as'].notna()]\n",
    "# wiki_movies_new_df['Also known as']"
   ]
  },
  {
   "cell_type": "code",
   "execution_count": 82,
   "metadata": {},
   "outputs": [],
   "source": [
    "def clean_movie(movie):\n",
    "    movie = dict(movie) #create a non-destructive copy\n",
    "    alt_titles = {}\n",
    "    # combine alternate titles into one list\n",
    "    for key in ['Also known as','Arabic','Cantonese','Chinese','French',\n",
    "                'Hangul','Hebrew','Hepburn','Japanese','Literally',\n",
    "                'Mandarin','McCune-Reischauer','Original title','Polish',\n",
    "                'Revised Romanization','Romanized','Russian',\n",
    "                'Simplified','Traditional','Yiddish']:\n",
    "        if key in movie:\n",
    "            alt_titles[key] = movie[key]\n",
    "            movie.pop(key)\n",
    "    if len(alt_titles) > 0:\n",
    "        movie['alt_titles'] = alt_titles\n",
    "\n",
    "    # There are quite a few columns with slightly different names \n",
    "    # but the same data, such as \"Directed by\" and \"Director.\"\n",
    "    # We need to consolidate columns with the same data into one column.\n",
    "    # merge column names\n",
    "    def change_column_name(old_name, new_name):\n",
    "        if old_name in movie:\n",
    "            movie[new_name] = movie.pop(old_name)\n",
    "    change_column_name('Adaptation by', 'Writer(s)')\n",
    "    change_column_name('Country of origin', 'Country')\n",
    "    change_column_name('Directed by', 'Director')\n",
    "    change_column_name('Distributed by', 'Distributor')\n",
    "    change_column_name('Edited by', 'Editor(s)')\n",
    "    change_column_name('Length', 'Running time')\n",
    "    change_column_name('Original release', 'Release date')\n",
    "    change_column_name('Music by', 'Composer(s)')\n",
    "    change_column_name('Produced by', 'Producer(s)')\n",
    "    change_column_name('Producer', 'Producer(s)')\n",
    "    change_column_name('Productioncompanies ', 'Production company(s)')\n",
    "    change_column_name('Productioncompany ', 'Production company(s)')\n",
    "    change_column_name('Released', 'Release Date')\n",
    "    change_column_name('Release Date', 'Release date')\n",
    "    change_column_name('Screen story by', 'Writer(s)')\n",
    "    change_column_name('Screenplay by', 'Writer(s)')\n",
    "    change_column_name('Story by', 'Writer(s)')\n",
    "    change_column_name('Theme music composer', 'Composer(s)')\n",
    "    change_column_name('Written by', 'Writer(s)')\n",
    "\n",
    "    return movie"
   ]
  },
  {
   "cell_type": "code",
   "execution_count": 83,
   "metadata": {},
   "outputs": [
    {
     "output_type": "execute_result",
     "data": {
      "text/plain": "                                                 url  year  \\\n0  https://en.wikipedia.org/wiki/The_Adventures_o...  1990   \n1  https://en.wikipedia.org/wiki/After_Dark,_My_S...  1990   \n2   https://en.wikipedia.org/wiki/Air_America_(film)  1990   \n3    https://en.wikipedia.org/wiki/Alice_(1990_film)  1990   \n4      https://en.wikipedia.org/wiki/Almost_an_Angel  1990   \n5        https://en.wikipedia.org/wiki/The_Ambulance  1990   \n6  https://en.wikipedia.org/wiki/American_Dream_(...  1990   \n7  https://en.wikipedia.org/wiki/American_Ninja_4...  1990   \n8     https://en.wikipedia.org/wiki/Andre%27s_Mother  1990   \n9    https://en.wikipedia.org/wiki/Angel_Town_(film)  1990   \n\n                               imdb_link                               title  \\\n0  https://www.imdb.com/title/tt0098987/     The Adventures of Ford Fairlane   \n1  https://www.imdb.com/title/tt0098994/                After Dark, My Sweet   \n2  https://www.imdb.com/title/tt0099005/                         Air America   \n3  https://www.imdb.com/title/tt0099012/                               Alice   \n4  https://www.imdb.com/title/tt0099018/                     Almost an Angel   \n5  https://www.imdb.com/title/tt0099026/                       The Ambulance   \n6  https://www.imdb.com/title/tt0099028/                      American Dream   \n7  https://www.imdb.com/title/tt0101326/  American Ninja 4: The Annihilation   \n8  https://www.imdb.com/title/tt0099037/                      Andre's Mother   \n9  https://www.imdb.com/title/tt0099039/                          Angel Town   \n\n                                            Based on  \\\n0                        [Characters, by Rex Weiner]   \n1  [the novel, After Dark, My Sweet, by, Jim Thom...   \n2             [Air America, by, Christopher Robbins]   \n3                                                NaN   \n4                                                NaN   \n5                                                NaN   \n6                                                NaN   \n7                                                NaN   \n8                                                NaN   \n9                                                NaN   \n\n                                            Starring         Narrated by  \\\n0  [Andrew Dice Clay, Wayne Newton, Priscilla Pre...  Andrew \"Dice\" Clay   \n1  [Jason Patric, Rachel Ward, Bruce Dern, George...                 NaN   \n2  [Mel Gibson, Robert Downey Jr., Nancy Travis, ...                 NaN   \n3  [Alec Baldwin, Blythe Danner, Judy Davis, Mia ...                 NaN   \n4        [Paul Hogan, Elias Koteas, Linda Kozlowski]                 NaN   \n5  [Eric Roberts, James Earl Jones, Red Buttons, ...                 NaN   \n6                                                NaN                 NaN   \n7  [Michael Dudikoff, David Bradley, James Booth,...                 NaN   \n8     [Richard Thomas, Sada Thompson, Sylvia Sidney]                 NaN   \n9  [Olivier Gruner, Theresa Saldana, Frank Aragon...                 NaN   \n\n                                  Cinematography  \\\n0                                    Oliver Wood   \n1                                   Mark Plummer   \n2                                  Roger Deakins   \n3                                 Carlo Di Palma   \n4                                   Russell Boyd   \n5                                Jacques Haitkin   \n6  [Tom Hurwitz, Mathieu Roberts, Nesya Shapiro]   \n7                                            NaN   \n8                                 Bobby Bukowski   \n9                                   John LeBlanc   \n\n                                        Release date Running time  ...  \\\n0                  [July 11, 1990, (, 1990-07-11, )]  102 minutes  ...   \n1  [May 17, 1990, (, 1990-05-17, ), (Cannes Film ...  114 minutes  ...   \n2                [August 10, 1990, (, 1990-08-10, )]  113 minutes  ...   \n3              [December 25, 1990, (, 1990-12-25, )]  106 minutes  ...   \n4                                  December 19, 1990   95 minutes  ...   \n5                 [March 22, 1990, (, 1990-03-22, )]   95 minutes  ...   \n6  [October 6, 1990, (, 1990-10-06, ), (, New Yor...  100 minutes  ...   \n7                  [March 8, 1991, (, 1991-03-08, )]   99 minutes  ...   \n8                  [March 7, 1990, (, 1990-03-07, )]   50 minutes  ...   \n9                      [February 23, 1990 (, USA, )]      102 min  ...   \n\n  Created by Preceded by Suggested by alt_titles Recorded Venue Label  \\\n0        NaN         NaN          NaN        NaN      NaN   NaN   NaN   \n1        NaN         NaN          NaN        NaN      NaN   NaN   NaN   \n2        NaN         NaN          NaN        NaN      NaN   NaN   NaN   \n3        NaN         NaN          NaN        NaN      NaN   NaN   NaN   \n4        NaN         NaN          NaN        NaN      NaN   NaN   NaN   \n5        NaN         NaN          NaN        NaN      NaN   NaN   NaN   \n6        NaN         NaN          NaN        NaN      NaN   NaN   NaN   \n7        NaN         NaN          NaN        NaN      NaN   NaN   NaN   \n8        NaN         NaN          NaN        NaN      NaN   NaN   NaN   \n9        NaN         NaN          NaN        NaN      NaN   NaN   NaN   \n\n  Animation by Color process McCune–Reischauer  \n0          NaN           NaN               NaN  \n1          NaN           NaN               NaN  \n2          NaN           NaN               NaN  \n3          NaN           NaN               NaN  \n4          NaN           NaN               NaN  \n5          NaN           NaN               NaN  \n6          NaN           NaN               NaN  \n7          NaN           NaN               NaN  \n8          NaN           NaN               NaN  \n9          NaN           NaN               NaN  \n\n[10 rows x 40 columns]",
      "text/html": "<div>\n<style scoped>\n    .dataframe tbody tr th:only-of-type {\n        vertical-align: middle;\n    }\n\n    .dataframe tbody tr th {\n        vertical-align: top;\n    }\n\n    .dataframe thead th {\n        text-align: right;\n    }\n</style>\n<table border=\"1\" class=\"dataframe\">\n  <thead>\n    <tr style=\"text-align: right;\">\n      <th></th>\n      <th>url</th>\n      <th>year</th>\n      <th>imdb_link</th>\n      <th>title</th>\n      <th>Based on</th>\n      <th>Starring</th>\n      <th>Narrated by</th>\n      <th>Cinematography</th>\n      <th>Release date</th>\n      <th>Running time</th>\n      <th>...</th>\n      <th>Created by</th>\n      <th>Preceded by</th>\n      <th>Suggested by</th>\n      <th>alt_titles</th>\n      <th>Recorded</th>\n      <th>Venue</th>\n      <th>Label</th>\n      <th>Animation by</th>\n      <th>Color process</th>\n      <th>McCune–Reischauer</th>\n    </tr>\n  </thead>\n  <tbody>\n    <tr>\n      <th>0</th>\n      <td>https://en.wikipedia.org/wiki/The_Adventures_o...</td>\n      <td>1990</td>\n      <td>https://www.imdb.com/title/tt0098987/</td>\n      <td>The Adventures of Ford Fairlane</td>\n      <td>[Characters, by Rex Weiner]</td>\n      <td>[Andrew Dice Clay, Wayne Newton, Priscilla Pre...</td>\n      <td>Andrew \"Dice\" Clay</td>\n      <td>Oliver Wood</td>\n      <td>[July 11, 1990, (, 1990-07-11, )]</td>\n      <td>102 minutes</td>\n      <td>...</td>\n      <td>NaN</td>\n      <td>NaN</td>\n      <td>NaN</td>\n      <td>NaN</td>\n      <td>NaN</td>\n      <td>NaN</td>\n      <td>NaN</td>\n      <td>NaN</td>\n      <td>NaN</td>\n      <td>NaN</td>\n    </tr>\n    <tr>\n      <th>1</th>\n      <td>https://en.wikipedia.org/wiki/After_Dark,_My_S...</td>\n      <td>1990</td>\n      <td>https://www.imdb.com/title/tt0098994/</td>\n      <td>After Dark, My Sweet</td>\n      <td>[the novel, After Dark, My Sweet, by, Jim Thom...</td>\n      <td>[Jason Patric, Rachel Ward, Bruce Dern, George...</td>\n      <td>NaN</td>\n      <td>Mark Plummer</td>\n      <td>[May 17, 1990, (, 1990-05-17, ), (Cannes Film ...</td>\n      <td>114 minutes</td>\n      <td>...</td>\n      <td>NaN</td>\n      <td>NaN</td>\n      <td>NaN</td>\n      <td>NaN</td>\n      <td>NaN</td>\n      <td>NaN</td>\n      <td>NaN</td>\n      <td>NaN</td>\n      <td>NaN</td>\n      <td>NaN</td>\n    </tr>\n    <tr>\n      <th>2</th>\n      <td>https://en.wikipedia.org/wiki/Air_America_(film)</td>\n      <td>1990</td>\n      <td>https://www.imdb.com/title/tt0099005/</td>\n      <td>Air America</td>\n      <td>[Air America, by, Christopher Robbins]</td>\n      <td>[Mel Gibson, Robert Downey Jr., Nancy Travis, ...</td>\n      <td>NaN</td>\n      <td>Roger Deakins</td>\n      <td>[August 10, 1990, (, 1990-08-10, )]</td>\n      <td>113 minutes</td>\n      <td>...</td>\n      <td>NaN</td>\n      <td>NaN</td>\n      <td>NaN</td>\n      <td>NaN</td>\n      <td>NaN</td>\n      <td>NaN</td>\n      <td>NaN</td>\n      <td>NaN</td>\n      <td>NaN</td>\n      <td>NaN</td>\n    </tr>\n    <tr>\n      <th>3</th>\n      <td>https://en.wikipedia.org/wiki/Alice_(1990_film)</td>\n      <td>1990</td>\n      <td>https://www.imdb.com/title/tt0099012/</td>\n      <td>Alice</td>\n      <td>NaN</td>\n      <td>[Alec Baldwin, Blythe Danner, Judy Davis, Mia ...</td>\n      <td>NaN</td>\n      <td>Carlo Di Palma</td>\n      <td>[December 25, 1990, (, 1990-12-25, )]</td>\n      <td>106 minutes</td>\n      <td>...</td>\n      <td>NaN</td>\n      <td>NaN</td>\n      <td>NaN</td>\n      <td>NaN</td>\n      <td>NaN</td>\n      <td>NaN</td>\n      <td>NaN</td>\n      <td>NaN</td>\n      <td>NaN</td>\n      <td>NaN</td>\n    </tr>\n    <tr>\n      <th>4</th>\n      <td>https://en.wikipedia.org/wiki/Almost_an_Angel</td>\n      <td>1990</td>\n      <td>https://www.imdb.com/title/tt0099018/</td>\n      <td>Almost an Angel</td>\n      <td>NaN</td>\n      <td>[Paul Hogan, Elias Koteas, Linda Kozlowski]</td>\n      <td>NaN</td>\n      <td>Russell Boyd</td>\n      <td>December 19, 1990</td>\n      <td>95 minutes</td>\n      <td>...</td>\n      <td>NaN</td>\n      <td>NaN</td>\n      <td>NaN</td>\n      <td>NaN</td>\n      <td>NaN</td>\n      <td>NaN</td>\n      <td>NaN</td>\n      <td>NaN</td>\n      <td>NaN</td>\n      <td>NaN</td>\n    </tr>\n    <tr>\n      <th>5</th>\n      <td>https://en.wikipedia.org/wiki/The_Ambulance</td>\n      <td>1990</td>\n      <td>https://www.imdb.com/title/tt0099026/</td>\n      <td>The Ambulance</td>\n      <td>NaN</td>\n      <td>[Eric Roberts, James Earl Jones, Red Buttons, ...</td>\n      <td>NaN</td>\n      <td>Jacques Haitkin</td>\n      <td>[March 22, 1990, (, 1990-03-22, )]</td>\n      <td>95 minutes</td>\n      <td>...</td>\n      <td>NaN</td>\n      <td>NaN</td>\n      <td>NaN</td>\n      <td>NaN</td>\n      <td>NaN</td>\n      <td>NaN</td>\n      <td>NaN</td>\n      <td>NaN</td>\n      <td>NaN</td>\n      <td>NaN</td>\n    </tr>\n    <tr>\n      <th>6</th>\n      <td>https://en.wikipedia.org/wiki/American_Dream_(...</td>\n      <td>1990</td>\n      <td>https://www.imdb.com/title/tt0099028/</td>\n      <td>American Dream</td>\n      <td>NaN</td>\n      <td>NaN</td>\n      <td>NaN</td>\n      <td>[Tom Hurwitz, Mathieu Roberts, Nesya Shapiro]</td>\n      <td>[October 6, 1990, (, 1990-10-06, ), (, New Yor...</td>\n      <td>100 minutes</td>\n      <td>...</td>\n      <td>NaN</td>\n      <td>NaN</td>\n      <td>NaN</td>\n      <td>NaN</td>\n      <td>NaN</td>\n      <td>NaN</td>\n      <td>NaN</td>\n      <td>NaN</td>\n      <td>NaN</td>\n      <td>NaN</td>\n    </tr>\n    <tr>\n      <th>7</th>\n      <td>https://en.wikipedia.org/wiki/American_Ninja_4...</td>\n      <td>1990</td>\n      <td>https://www.imdb.com/title/tt0101326/</td>\n      <td>American Ninja 4: The Annihilation</td>\n      <td>NaN</td>\n      <td>[Michael Dudikoff, David Bradley, James Booth,...</td>\n      <td>NaN</td>\n      <td>NaN</td>\n      <td>[March 8, 1991, (, 1991-03-08, )]</td>\n      <td>99 minutes</td>\n      <td>...</td>\n      <td>NaN</td>\n      <td>NaN</td>\n      <td>NaN</td>\n      <td>NaN</td>\n      <td>NaN</td>\n      <td>NaN</td>\n      <td>NaN</td>\n      <td>NaN</td>\n      <td>NaN</td>\n      <td>NaN</td>\n    </tr>\n    <tr>\n      <th>8</th>\n      <td>https://en.wikipedia.org/wiki/Andre%27s_Mother</td>\n      <td>1990</td>\n      <td>https://www.imdb.com/title/tt0099037/</td>\n      <td>Andre's Mother</td>\n      <td>NaN</td>\n      <td>[Richard Thomas, Sada Thompson, Sylvia Sidney]</td>\n      <td>NaN</td>\n      <td>Bobby Bukowski</td>\n      <td>[March 7, 1990, (, 1990-03-07, )]</td>\n      <td>50 minutes</td>\n      <td>...</td>\n      <td>NaN</td>\n      <td>NaN</td>\n      <td>NaN</td>\n      <td>NaN</td>\n      <td>NaN</td>\n      <td>NaN</td>\n      <td>NaN</td>\n      <td>NaN</td>\n      <td>NaN</td>\n      <td>NaN</td>\n    </tr>\n    <tr>\n      <th>9</th>\n      <td>https://en.wikipedia.org/wiki/Angel_Town_(film)</td>\n      <td>1990</td>\n      <td>https://www.imdb.com/title/tt0099039/</td>\n      <td>Angel Town</td>\n      <td>NaN</td>\n      <td>[Olivier Gruner, Theresa Saldana, Frank Aragon...</td>\n      <td>NaN</td>\n      <td>John LeBlanc</td>\n      <td>[February 23, 1990 (, USA, )]</td>\n      <td>102 min</td>\n      <td>...</td>\n      <td>NaN</td>\n      <td>NaN</td>\n      <td>NaN</td>\n      <td>NaN</td>\n      <td>NaN</td>\n      <td>NaN</td>\n      <td>NaN</td>\n      <td>NaN</td>\n      <td>NaN</td>\n      <td>NaN</td>\n    </tr>\n  </tbody>\n</table>\n<p>10 rows × 40 columns</p>\n</div>"
     },
     "metadata": {},
     "execution_count": 83
    }
   ],
   "source": [
    "clean_movies = [clean_movie(movie) for movie in wiki_movies]\n",
    "wiki_movies_df = pd.DataFrame(clean_movies)\n",
    "wiki_movies_df.head(10)"
   ]
  },
  {
   "cell_type": "code",
   "execution_count": 84,
   "metadata": {},
   "outputs": [
    {
     "output_type": "execute_result",
     "data": {
      "text/plain": "['Animation by',\n 'Audio format',\n 'Based on',\n 'Box office',\n 'Budget',\n 'Cinematography',\n 'Color process',\n 'Composer(s)',\n 'Country',\n 'Created by',\n 'Director',\n 'Distributor',\n 'Editor(s)',\n 'Executive producer(s)',\n 'Followed by',\n 'Genre',\n 'Label',\n 'Language',\n 'McCune–Reischauer',\n 'Narrated by',\n 'Original language(s)',\n 'Original network',\n 'Picture format',\n 'Preceded by',\n 'Producer(s)',\n 'Production company(s)',\n 'Production location(s)',\n 'Recorded',\n 'Release date',\n 'Running time',\n 'Starring',\n 'Suggested by',\n 'Venue',\n 'Voices of',\n 'Writer(s)',\n 'alt_titles',\n 'imdb_link',\n 'title',\n 'url',\n 'year']"
     },
     "metadata": {},
     "execution_count": 84
    }
   ],
   "source": [
    "sorted(wiki_movies_df.columns.tolist())"
   ]
  },
  {
   "cell_type": "code",
   "execution_count": 85,
   "metadata": {
    "tags": []
   },
   "outputs": [
    {
     "output_type": "stream",
     "name": "stdout",
     "text": "7076\n7033\n"
    },
    {
     "output_type": "execute_result",
     "data": {
      "text/plain": "                                                 url  year  \\\n0  https://en.wikipedia.org/wiki/The_Adventures_o...  1990   \n1  https://en.wikipedia.org/wiki/After_Dark,_My_S...  1990   \n2   https://en.wikipedia.org/wiki/Air_America_(film)  1990   \n3    https://en.wikipedia.org/wiki/Alice_(1990_film)  1990   \n4      https://en.wikipedia.org/wiki/Almost_an_Angel  1990   \n\n                               imdb_link                            title  \\\n0  https://www.imdb.com/title/tt0098987/  The Adventures of Ford Fairlane   \n1  https://www.imdb.com/title/tt0098994/             After Dark, My Sweet   \n2  https://www.imdb.com/title/tt0099005/                      Air America   \n3  https://www.imdb.com/title/tt0099012/                            Alice   \n4  https://www.imdb.com/title/tt0099018/                  Almost an Angel   \n\n                                            Based on  \\\n0                        [Characters, by Rex Weiner]   \n1  [the novel, After Dark, My Sweet, by, Jim Thom...   \n2             [Air America, by, Christopher Robbins]   \n3                                                NaN   \n4                                                NaN   \n\n                                            Starring         Narrated by  \\\n0  [Andrew Dice Clay, Wayne Newton, Priscilla Pre...  Andrew \"Dice\" Clay   \n1  [Jason Patric, Rachel Ward, Bruce Dern, George...                 NaN   \n2  [Mel Gibson, Robert Downey Jr., Nancy Travis, ...                 NaN   \n3  [Alec Baldwin, Blythe Danner, Judy Davis, Mia ...                 NaN   \n4        [Paul Hogan, Elias Koteas, Linda Kozlowski]                 NaN   \n\n   Cinematography                                       Release date  \\\n0     Oliver Wood                  [July 11, 1990, (, 1990-07-11, )]   \n1    Mark Plummer  [May 17, 1990, (, 1990-05-17, ), (Cannes Film ...   \n2   Roger Deakins                [August 10, 1990, (, 1990-08-10, )]   \n3  Carlo Di Palma              [December 25, 1990, (, 1990-12-25, )]   \n4    Russell Boyd                                  December 19, 1990   \n\n  Running time  ... Preceded by Suggested by alt_titles Recorded Venue Label  \\\n0  102 minutes  ...         NaN          NaN        NaN      NaN   NaN   NaN   \n1  114 minutes  ...         NaN          NaN        NaN      NaN   NaN   NaN   \n2  113 minutes  ...         NaN          NaN        NaN      NaN   NaN   NaN   \n3  106 minutes  ...         NaN          NaN        NaN      NaN   NaN   NaN   \n4   95 minutes  ...         NaN          NaN        NaN      NaN   NaN   NaN   \n\n  Animation by Color process McCune–Reischauer    imdb_id  \n0          NaN           NaN               NaN  tt0098987  \n1          NaN           NaN               NaN  tt0098994  \n2          NaN           NaN               NaN  tt0099005  \n3          NaN           NaN               NaN  tt0099012  \n4          NaN           NaN               NaN  tt0099018  \n\n[5 rows x 41 columns]",
      "text/html": "<div>\n<style scoped>\n    .dataframe tbody tr th:only-of-type {\n        vertical-align: middle;\n    }\n\n    .dataframe tbody tr th {\n        vertical-align: top;\n    }\n\n    .dataframe thead th {\n        text-align: right;\n    }\n</style>\n<table border=\"1\" class=\"dataframe\">\n  <thead>\n    <tr style=\"text-align: right;\">\n      <th></th>\n      <th>url</th>\n      <th>year</th>\n      <th>imdb_link</th>\n      <th>title</th>\n      <th>Based on</th>\n      <th>Starring</th>\n      <th>Narrated by</th>\n      <th>Cinematography</th>\n      <th>Release date</th>\n      <th>Running time</th>\n      <th>...</th>\n      <th>Preceded by</th>\n      <th>Suggested by</th>\n      <th>alt_titles</th>\n      <th>Recorded</th>\n      <th>Venue</th>\n      <th>Label</th>\n      <th>Animation by</th>\n      <th>Color process</th>\n      <th>McCune–Reischauer</th>\n      <th>imdb_id</th>\n    </tr>\n  </thead>\n  <tbody>\n    <tr>\n      <th>0</th>\n      <td>https://en.wikipedia.org/wiki/The_Adventures_o...</td>\n      <td>1990</td>\n      <td>https://www.imdb.com/title/tt0098987/</td>\n      <td>The Adventures of Ford Fairlane</td>\n      <td>[Characters, by Rex Weiner]</td>\n      <td>[Andrew Dice Clay, Wayne Newton, Priscilla Pre...</td>\n      <td>Andrew \"Dice\" Clay</td>\n      <td>Oliver Wood</td>\n      <td>[July 11, 1990, (, 1990-07-11, )]</td>\n      <td>102 minutes</td>\n      <td>...</td>\n      <td>NaN</td>\n      <td>NaN</td>\n      <td>NaN</td>\n      <td>NaN</td>\n      <td>NaN</td>\n      <td>NaN</td>\n      <td>NaN</td>\n      <td>NaN</td>\n      <td>NaN</td>\n      <td>tt0098987</td>\n    </tr>\n    <tr>\n      <th>1</th>\n      <td>https://en.wikipedia.org/wiki/After_Dark,_My_S...</td>\n      <td>1990</td>\n      <td>https://www.imdb.com/title/tt0098994/</td>\n      <td>After Dark, My Sweet</td>\n      <td>[the novel, After Dark, My Sweet, by, Jim Thom...</td>\n      <td>[Jason Patric, Rachel Ward, Bruce Dern, George...</td>\n      <td>NaN</td>\n      <td>Mark Plummer</td>\n      <td>[May 17, 1990, (, 1990-05-17, ), (Cannes Film ...</td>\n      <td>114 minutes</td>\n      <td>...</td>\n      <td>NaN</td>\n      <td>NaN</td>\n      <td>NaN</td>\n      <td>NaN</td>\n      <td>NaN</td>\n      <td>NaN</td>\n      <td>NaN</td>\n      <td>NaN</td>\n      <td>NaN</td>\n      <td>tt0098994</td>\n    </tr>\n    <tr>\n      <th>2</th>\n      <td>https://en.wikipedia.org/wiki/Air_America_(film)</td>\n      <td>1990</td>\n      <td>https://www.imdb.com/title/tt0099005/</td>\n      <td>Air America</td>\n      <td>[Air America, by, Christopher Robbins]</td>\n      <td>[Mel Gibson, Robert Downey Jr., Nancy Travis, ...</td>\n      <td>NaN</td>\n      <td>Roger Deakins</td>\n      <td>[August 10, 1990, (, 1990-08-10, )]</td>\n      <td>113 minutes</td>\n      <td>...</td>\n      <td>NaN</td>\n      <td>NaN</td>\n      <td>NaN</td>\n      <td>NaN</td>\n      <td>NaN</td>\n      <td>NaN</td>\n      <td>NaN</td>\n      <td>NaN</td>\n      <td>NaN</td>\n      <td>tt0099005</td>\n    </tr>\n    <tr>\n      <th>3</th>\n      <td>https://en.wikipedia.org/wiki/Alice_(1990_film)</td>\n      <td>1990</td>\n      <td>https://www.imdb.com/title/tt0099012/</td>\n      <td>Alice</td>\n      <td>NaN</td>\n      <td>[Alec Baldwin, Blythe Danner, Judy Davis, Mia ...</td>\n      <td>NaN</td>\n      <td>Carlo Di Palma</td>\n      <td>[December 25, 1990, (, 1990-12-25, )]</td>\n      <td>106 minutes</td>\n      <td>...</td>\n      <td>NaN</td>\n      <td>NaN</td>\n      <td>NaN</td>\n      <td>NaN</td>\n      <td>NaN</td>\n      <td>NaN</td>\n      <td>NaN</td>\n      <td>NaN</td>\n      <td>NaN</td>\n      <td>tt0099012</td>\n    </tr>\n    <tr>\n      <th>4</th>\n      <td>https://en.wikipedia.org/wiki/Almost_an_Angel</td>\n      <td>1990</td>\n      <td>https://www.imdb.com/title/tt0099018/</td>\n      <td>Almost an Angel</td>\n      <td>NaN</td>\n      <td>[Paul Hogan, Elias Koteas, Linda Kozlowski]</td>\n      <td>NaN</td>\n      <td>Russell Boyd</td>\n      <td>December 19, 1990</td>\n      <td>95 minutes</td>\n      <td>...</td>\n      <td>NaN</td>\n      <td>NaN</td>\n      <td>NaN</td>\n      <td>NaN</td>\n      <td>NaN</td>\n      <td>NaN</td>\n      <td>NaN</td>\n      <td>NaN</td>\n      <td>NaN</td>\n      <td>tt0099018</td>\n    </tr>\n  </tbody>\n</table>\n<p>5 rows × 41 columns</p>\n</div>"
     },
     "metadata": {},
     "execution_count": 85
    }
   ],
   "source": [
    "wiki_movies_df['imdb_id'] = wiki_movies_df['imdb_link'].str.extract(r'(tt\\d{7})')\n",
    "print(len(wiki_movies_df))\n",
    "wiki_movies_df.drop_duplicates(subset='imdb_id', inplace=True)\n",
    "print(len(wiki_movies_df))\n",
    "wiki_movies_df.head()"
   ]
  },
  {
   "cell_type": "code",
   "execution_count": 86,
   "metadata": {},
   "outputs": [
    {
     "output_type": "execute_result",
     "data": {
      "text/plain": "[['url', 0],\n ['year', 0],\n ['imdb_link', 0],\n ['title', 1],\n ['Based on', 4852],\n ['Starring', 184],\n ['Narrated by', 6752],\n ['Cinematography', 691],\n ['Release date', 32],\n ['Running time', 139],\n ['Country', 236],\n ['Language', 244],\n ['Budget', 2295],\n ['Box office', 1548],\n ['Director', 0],\n ['Distributor', 357],\n ['Editor(s)', 548],\n ['Composer(s)', 518],\n ['Producer(s)', 202],\n ['Production company(s)', 1678],\n ['Writer(s)', 199],\n ['Genre', 6923],\n ['Original language(s)', 6875],\n ['Original network', 6908],\n ['Executive producer(s)', 6936],\n ['Production location(s)', 6986],\n ['Picture format', 6969],\n ['Audio format', 6972],\n ['Voices of', 7031],\n ['Followed by', 7024],\n ['Created by', 7023],\n ['Preceded by', 7023],\n ['Suggested by', 7032],\n ['alt_titles', 7012],\n ['Recorded', 7031],\n ['Venue', 7032],\n ['Label', 7031],\n ['Animation by', 7031],\n ['Color process', 7032],\n ['McCune–Reischauer', 7031],\n ['imdb_id', 0]]"
     },
     "metadata": {},
     "execution_count": 86
    }
   ],
   "source": [
    "# One way to get the count of null values for each column is to use a list comprehension, as shown below.\n",
    "[[column,wiki_movies_df[column].isnull().sum()] for column in wiki_movies_df.columns]"
   ]
  },
  {
   "cell_type": "code",
   "execution_count": 87,
   "metadata": {},
   "outputs": [
    {
     "output_type": "execute_result",
     "data": {
      "text/plain": "                                                 url  year  \\\n0  https://en.wikipedia.org/wiki/The_Adventures_o...  1990   \n1  https://en.wikipedia.org/wiki/After_Dark,_My_S...  1990   \n2   https://en.wikipedia.org/wiki/Air_America_(film)  1990   \n3    https://en.wikipedia.org/wiki/Alice_(1990_film)  1990   \n4      https://en.wikipedia.org/wiki/Almost_an_Angel  1990   \n5        https://en.wikipedia.org/wiki/The_Ambulance  1990   \n6  https://en.wikipedia.org/wiki/American_Dream_(...  1990   \n7  https://en.wikipedia.org/wiki/American_Ninja_4...  1990   \n8     https://en.wikipedia.org/wiki/Andre%27s_Mother  1990   \n9    https://en.wikipedia.org/wiki/Angel_Town_(film)  1990   \n\n                               imdb_link                               title  \\\n0  https://www.imdb.com/title/tt0098987/     The Adventures of Ford Fairlane   \n1  https://www.imdb.com/title/tt0098994/                After Dark, My Sweet   \n2  https://www.imdb.com/title/tt0099005/                         Air America   \n3  https://www.imdb.com/title/tt0099012/                               Alice   \n4  https://www.imdb.com/title/tt0099018/                     Almost an Angel   \n5  https://www.imdb.com/title/tt0099026/                       The Ambulance   \n6  https://www.imdb.com/title/tt0099028/                      American Dream   \n7  https://www.imdb.com/title/tt0101326/  American Ninja 4: The Annihilation   \n8  https://www.imdb.com/title/tt0099037/                      Andre's Mother   \n9  https://www.imdb.com/title/tt0099039/                          Angel Town   \n\n                                            Based on  \\\n0                        [Characters, by Rex Weiner]   \n1  [the novel, After Dark, My Sweet, by, Jim Thom...   \n2             [Air America, by, Christopher Robbins]   \n3                                                NaN   \n4                                                NaN   \n5                                                NaN   \n6                                                NaN   \n7                                                NaN   \n8                                                NaN   \n9                                                NaN   \n\n                                            Starring  \\\n0  [Andrew Dice Clay, Wayne Newton, Priscilla Pre...   \n1  [Jason Patric, Rachel Ward, Bruce Dern, George...   \n2  [Mel Gibson, Robert Downey Jr., Nancy Travis, ...   \n3  [Alec Baldwin, Blythe Danner, Judy Davis, Mia ...   \n4        [Paul Hogan, Elias Koteas, Linda Kozlowski]   \n5  [Eric Roberts, James Earl Jones, Red Buttons, ...   \n6                                                NaN   \n7  [Michael Dudikoff, David Bradley, James Booth,...   \n8     [Richard Thomas, Sada Thompson, Sylvia Sidney]   \n9  [Olivier Gruner, Theresa Saldana, Frank Aragon...   \n\n                                  Cinematography  \\\n0                                    Oliver Wood   \n1                                   Mark Plummer   \n2                                  Roger Deakins   \n3                                 Carlo Di Palma   \n4                                   Russell Boyd   \n5                                Jacques Haitkin   \n6  [Tom Hurwitz, Mathieu Roberts, Nesya Shapiro]   \n7                                            NaN   \n8                                 Bobby Bukowski   \n9                                   John LeBlanc   \n\n                                        Release date Running time  \\\n0                  [July 11, 1990, (, 1990-07-11, )]  102 minutes   \n1  [May 17, 1990, (, 1990-05-17, ), (Cannes Film ...  114 minutes   \n2                [August 10, 1990, (, 1990-08-10, )]  113 minutes   \n3              [December 25, 1990, (, 1990-12-25, )]  106 minutes   \n4                                  December 19, 1990   95 minutes   \n5                 [March 22, 1990, (, 1990-03-22, )]   95 minutes   \n6  [October 6, 1990, (, 1990-10-06, ), (, New Yor...  100 minutes   \n7                  [March 8, 1991, (, 1991-03-08, )]   99 minutes   \n8                  [March 7, 1990, (, 1990-03-07, )]   50 minutes   \n9                      [February 23, 1990 (, USA, )]      102 min   \n\n                           Country  ...       Budget        Box office  \\\n0                    United States  ...  $20 million     $21.4 million   \n1                    United States  ...   $6 million      $2.7 million   \n2                    United States  ...  $35 million       $57,718,089   \n3                    United States  ...  $12 million        $7,331,647   \n4                               US  ...  $25 million  $6,939,946 (USA)   \n5                    United States  ...          NaN               NaN   \n6  [United States, United Kingdom]  ...          NaN               NaN   \n7         [United States, Lesotho]  ...          NaN               NaN   \n8                    United States  ...          NaN               NaN   \n9                    United States  ...          NaN          $855,810   \n\n                                            Director  \\\n0                                       Renny Harlin   \n1                                        James Foley   \n2                                 Roger Spottiswoode   \n3                                        Woody Allen   \n4                                       John Cornell   \n5                                        Larry Cohen   \n6  [Barbara Kopple, Co-directors:, Cathy Caplan, ...   \n7                                   Cedric Sundstrom   \n8                                   Deborah Reinisch   \n9                                        Eric Karson   \n\n                     Distributor  \\\n0               20th Century Fox   \n1                Avenue Pictures   \n2               TriStar Pictures   \n3                 Orion Pictures   \n4             Paramount Pictures   \n5  Triumph Releasing Corporation   \n6                 Prestige Films   \n7                   Cannon Group   \n8    Public Broadcasting Service   \n9         Imperial Entertainment   \n\n                                      Editor(s)              Composer(s)  \\\n0                               Michael Tronick  [Cliff Eidelman, Yello]   \n1                               Howard E. Smith            Maurice Jarre   \n2                [John Bloom, Lois Freeman-Fox]            Charles Gross   \n3                                Susan E. Morse                      NaN   \n4                                  David Stiven            Maurice Jarre   \n5            [Claudia Finkle, Armond Leibowitz]            Jay Chattaway   \n6  [Cathy Caplan, Thomas Haneke, Lawrence Silk]            Michael Small   \n7                                           NaN                      NaN   \n8                                  Jeffrey Wolf         Jonathan Sheffer   \n9                                Duane Hartzell            Terry Plumeri   \n\n                                     Producer(s)  \\\n0                     [Steve Perry, Joel Silver]   \n1                    [Ric Kidney, Robert Redlin]   \n2                                 Daniel Melnick   \n3                                Robert Greenhut   \n4                                   John Cornell   \n5  [Larry Cohen, Moctesuma Esparza, Robert Katz]   \n6                  [Arthur Cohn, Barbara Kopple]   \n7                             Ovidio G Assonitis   \n8                [Sarah Green, Deborah Reinisch]   \n9                     [Ash R. Shah, Eric Karson]   \n\n                               Production company(s)  \\\n0                                    Silver Pictures   \n1                                    Avenue Pictures   \n2              [Carolco Pictures, IndieProd Company]   \n3                                                NaN   \n4                                                NaN   \n5                                   Epic Productions   \n6  [Cabin Creek, Catholic Communication Campaign,...   \n7                                                NaN   \n8                                                NaN   \n9                                                NaN   \n\n                      Writer(s)    imdb_id  \n0   [David Arnott, James Cappe]  tt0098987  \n1  [James Foley, Robert Redlin]  tt0098994  \n2    [John Eskow, Richard Rush]  tt0099005  \n3                   Woody Allen  tt0099012  \n4                    Paul Hogan  tt0099018  \n5                   Larry Cohen  tt0099026  \n6                           NaN  tt0099028  \n7                  David Geeves  tt0101326  \n8              Terrence McNally  tt0099037  \n9                     S. Warren  tt0099039  \n\n[10 rows x 21 columns]",
      "text/html": "<div>\n<style scoped>\n    .dataframe tbody tr th:only-of-type {\n        vertical-align: middle;\n    }\n\n    .dataframe tbody tr th {\n        vertical-align: top;\n    }\n\n    .dataframe thead th {\n        text-align: right;\n    }\n</style>\n<table border=\"1\" class=\"dataframe\">\n  <thead>\n    <tr style=\"text-align: right;\">\n      <th></th>\n      <th>url</th>\n      <th>year</th>\n      <th>imdb_link</th>\n      <th>title</th>\n      <th>Based on</th>\n      <th>Starring</th>\n      <th>Cinematography</th>\n      <th>Release date</th>\n      <th>Running time</th>\n      <th>Country</th>\n      <th>...</th>\n      <th>Budget</th>\n      <th>Box office</th>\n      <th>Director</th>\n      <th>Distributor</th>\n      <th>Editor(s)</th>\n      <th>Composer(s)</th>\n      <th>Producer(s)</th>\n      <th>Production company(s)</th>\n      <th>Writer(s)</th>\n      <th>imdb_id</th>\n    </tr>\n  </thead>\n  <tbody>\n    <tr>\n      <th>0</th>\n      <td>https://en.wikipedia.org/wiki/The_Adventures_o...</td>\n      <td>1990</td>\n      <td>https://www.imdb.com/title/tt0098987/</td>\n      <td>The Adventures of Ford Fairlane</td>\n      <td>[Characters, by Rex Weiner]</td>\n      <td>[Andrew Dice Clay, Wayne Newton, Priscilla Pre...</td>\n      <td>Oliver Wood</td>\n      <td>[July 11, 1990, (, 1990-07-11, )]</td>\n      <td>102 minutes</td>\n      <td>United States</td>\n      <td>...</td>\n      <td>$20 million</td>\n      <td>$21.4 million</td>\n      <td>Renny Harlin</td>\n      <td>20th Century Fox</td>\n      <td>Michael Tronick</td>\n      <td>[Cliff Eidelman, Yello]</td>\n      <td>[Steve Perry, Joel Silver]</td>\n      <td>Silver Pictures</td>\n      <td>[David Arnott, James Cappe]</td>\n      <td>tt0098987</td>\n    </tr>\n    <tr>\n      <th>1</th>\n      <td>https://en.wikipedia.org/wiki/After_Dark,_My_S...</td>\n      <td>1990</td>\n      <td>https://www.imdb.com/title/tt0098994/</td>\n      <td>After Dark, My Sweet</td>\n      <td>[the novel, After Dark, My Sweet, by, Jim Thom...</td>\n      <td>[Jason Patric, Rachel Ward, Bruce Dern, George...</td>\n      <td>Mark Plummer</td>\n      <td>[May 17, 1990, (, 1990-05-17, ), (Cannes Film ...</td>\n      <td>114 minutes</td>\n      <td>United States</td>\n      <td>...</td>\n      <td>$6 million</td>\n      <td>$2.7 million</td>\n      <td>James Foley</td>\n      <td>Avenue Pictures</td>\n      <td>Howard E. Smith</td>\n      <td>Maurice Jarre</td>\n      <td>[Ric Kidney, Robert Redlin]</td>\n      <td>Avenue Pictures</td>\n      <td>[James Foley, Robert Redlin]</td>\n      <td>tt0098994</td>\n    </tr>\n    <tr>\n      <th>2</th>\n      <td>https://en.wikipedia.org/wiki/Air_America_(film)</td>\n      <td>1990</td>\n      <td>https://www.imdb.com/title/tt0099005/</td>\n      <td>Air America</td>\n      <td>[Air America, by, Christopher Robbins]</td>\n      <td>[Mel Gibson, Robert Downey Jr., Nancy Travis, ...</td>\n      <td>Roger Deakins</td>\n      <td>[August 10, 1990, (, 1990-08-10, )]</td>\n      <td>113 minutes</td>\n      <td>United States</td>\n      <td>...</td>\n      <td>$35 million</td>\n      <td>$57,718,089</td>\n      <td>Roger Spottiswoode</td>\n      <td>TriStar Pictures</td>\n      <td>[John Bloom, Lois Freeman-Fox]</td>\n      <td>Charles Gross</td>\n      <td>Daniel Melnick</td>\n      <td>[Carolco Pictures, IndieProd Company]</td>\n      <td>[John Eskow, Richard Rush]</td>\n      <td>tt0099005</td>\n    </tr>\n    <tr>\n      <th>3</th>\n      <td>https://en.wikipedia.org/wiki/Alice_(1990_film)</td>\n      <td>1990</td>\n      <td>https://www.imdb.com/title/tt0099012/</td>\n      <td>Alice</td>\n      <td>NaN</td>\n      <td>[Alec Baldwin, Blythe Danner, Judy Davis, Mia ...</td>\n      <td>Carlo Di Palma</td>\n      <td>[December 25, 1990, (, 1990-12-25, )]</td>\n      <td>106 minutes</td>\n      <td>United States</td>\n      <td>...</td>\n      <td>$12 million</td>\n      <td>$7,331,647</td>\n      <td>Woody Allen</td>\n      <td>Orion Pictures</td>\n      <td>Susan E. Morse</td>\n      <td>NaN</td>\n      <td>Robert Greenhut</td>\n      <td>NaN</td>\n      <td>Woody Allen</td>\n      <td>tt0099012</td>\n    </tr>\n    <tr>\n      <th>4</th>\n      <td>https://en.wikipedia.org/wiki/Almost_an_Angel</td>\n      <td>1990</td>\n      <td>https://www.imdb.com/title/tt0099018/</td>\n      <td>Almost an Angel</td>\n      <td>NaN</td>\n      <td>[Paul Hogan, Elias Koteas, Linda Kozlowski]</td>\n      <td>Russell Boyd</td>\n      <td>December 19, 1990</td>\n      <td>95 minutes</td>\n      <td>US</td>\n      <td>...</td>\n      <td>$25 million</td>\n      <td>$6,939,946 (USA)</td>\n      <td>John Cornell</td>\n      <td>Paramount Pictures</td>\n      <td>David Stiven</td>\n      <td>Maurice Jarre</td>\n      <td>John Cornell</td>\n      <td>NaN</td>\n      <td>Paul Hogan</td>\n      <td>tt0099018</td>\n    </tr>\n    <tr>\n      <th>5</th>\n      <td>https://en.wikipedia.org/wiki/The_Ambulance</td>\n      <td>1990</td>\n      <td>https://www.imdb.com/title/tt0099026/</td>\n      <td>The Ambulance</td>\n      <td>NaN</td>\n      <td>[Eric Roberts, James Earl Jones, Red Buttons, ...</td>\n      <td>Jacques Haitkin</td>\n      <td>[March 22, 1990, (, 1990-03-22, )]</td>\n      <td>95 minutes</td>\n      <td>United States</td>\n      <td>...</td>\n      <td>NaN</td>\n      <td>NaN</td>\n      <td>Larry Cohen</td>\n      <td>Triumph Releasing Corporation</td>\n      <td>[Claudia Finkle, Armond Leibowitz]</td>\n      <td>Jay Chattaway</td>\n      <td>[Larry Cohen, Moctesuma Esparza, Robert Katz]</td>\n      <td>Epic Productions</td>\n      <td>Larry Cohen</td>\n      <td>tt0099026</td>\n    </tr>\n    <tr>\n      <th>6</th>\n      <td>https://en.wikipedia.org/wiki/American_Dream_(...</td>\n      <td>1990</td>\n      <td>https://www.imdb.com/title/tt0099028/</td>\n      <td>American Dream</td>\n      <td>NaN</td>\n      <td>NaN</td>\n      <td>[Tom Hurwitz, Mathieu Roberts, Nesya Shapiro]</td>\n      <td>[October 6, 1990, (, 1990-10-06, ), (, New Yor...</td>\n      <td>100 minutes</td>\n      <td>[United States, United Kingdom]</td>\n      <td>...</td>\n      <td>NaN</td>\n      <td>NaN</td>\n      <td>[Barbara Kopple, Co-directors:, Cathy Caplan, ...</td>\n      <td>Prestige Films</td>\n      <td>[Cathy Caplan, Thomas Haneke, Lawrence Silk]</td>\n      <td>Michael Small</td>\n      <td>[Arthur Cohn, Barbara Kopple]</td>\n      <td>[Cabin Creek, Catholic Communication Campaign,...</td>\n      <td>NaN</td>\n      <td>tt0099028</td>\n    </tr>\n    <tr>\n      <th>7</th>\n      <td>https://en.wikipedia.org/wiki/American_Ninja_4...</td>\n      <td>1990</td>\n      <td>https://www.imdb.com/title/tt0101326/</td>\n      <td>American Ninja 4: The Annihilation</td>\n      <td>NaN</td>\n      <td>[Michael Dudikoff, David Bradley, James Booth,...</td>\n      <td>NaN</td>\n      <td>[March 8, 1991, (, 1991-03-08, )]</td>\n      <td>99 minutes</td>\n      <td>[United States, Lesotho]</td>\n      <td>...</td>\n      <td>NaN</td>\n      <td>NaN</td>\n      <td>Cedric Sundstrom</td>\n      <td>Cannon Group</td>\n      <td>NaN</td>\n      <td>NaN</td>\n      <td>Ovidio G Assonitis</td>\n      <td>NaN</td>\n      <td>David Geeves</td>\n      <td>tt0101326</td>\n    </tr>\n    <tr>\n      <th>8</th>\n      <td>https://en.wikipedia.org/wiki/Andre%27s_Mother</td>\n      <td>1990</td>\n      <td>https://www.imdb.com/title/tt0099037/</td>\n      <td>Andre's Mother</td>\n      <td>NaN</td>\n      <td>[Richard Thomas, Sada Thompson, Sylvia Sidney]</td>\n      <td>Bobby Bukowski</td>\n      <td>[March 7, 1990, (, 1990-03-07, )]</td>\n      <td>50 minutes</td>\n      <td>United States</td>\n      <td>...</td>\n      <td>NaN</td>\n      <td>NaN</td>\n      <td>Deborah Reinisch</td>\n      <td>Public Broadcasting Service</td>\n      <td>Jeffrey Wolf</td>\n      <td>Jonathan Sheffer</td>\n      <td>[Sarah Green, Deborah Reinisch]</td>\n      <td>NaN</td>\n      <td>Terrence McNally</td>\n      <td>tt0099037</td>\n    </tr>\n    <tr>\n      <th>9</th>\n      <td>https://en.wikipedia.org/wiki/Angel_Town_(film)</td>\n      <td>1990</td>\n      <td>https://www.imdb.com/title/tt0099039/</td>\n      <td>Angel Town</td>\n      <td>NaN</td>\n      <td>[Olivier Gruner, Theresa Saldana, Frank Aragon...</td>\n      <td>John LeBlanc</td>\n      <td>[February 23, 1990 (, USA, )]</td>\n      <td>102 min</td>\n      <td>United States</td>\n      <td>...</td>\n      <td>NaN</td>\n      <td>$855,810</td>\n      <td>Eric Karson</td>\n      <td>Imperial Entertainment</td>\n      <td>Duane Hartzell</td>\n      <td>Terry Plumeri</td>\n      <td>[Ash R. Shah, Eric Karson]</td>\n      <td>NaN</td>\n      <td>S. Warren</td>\n      <td>tt0099039</td>\n    </tr>\n  </tbody>\n</table>\n<p>10 rows × 21 columns</p>\n</div>"
     },
     "metadata": {},
     "execution_count": 87
    }
   ],
   "source": [
    "wiki_columns_to_keep = [column for column in wiki_movies_df.columns if wiki_movies_df[column].isnull().sum() < len(wiki_movies_df) * 0.9]\n",
    "wiki_movies_df = wiki_movies_df[wiki_columns_to_keep]\n",
    "wiki_movies_df.head(10)"
   ]
  },
  {
   "cell_type": "code",
   "execution_count": 88,
   "metadata": {},
   "outputs": [
    {
     "output_type": "execute_result",
     "data": {
      "text/plain": "url                      object\nyear                      int64\nimdb_link                object\ntitle                    object\nBased on                 object\nStarring                 object\nCinematography           object\nRelease date             object\nRunning time             object\nCountry                  object\nLanguage                 object\nBudget                   object\nBox office               object\nDirector                 object\nDistributor              object\nEditor(s)                object\nComposer(s)              object\nProducer(s)              object\nProduction company(s)    object\nWriter(s)                object\nimdb_id                  object\ndtype: object"
     },
     "metadata": {},
     "execution_count": 88
    }
   ],
   "source": [
    "wiki_movies_df.dtypes"
   ]
  },
  {
   "cell_type": "code",
   "execution_count": 89,
   "metadata": {},
   "outputs": [],
   "source": [
    "box_office = wiki_movies_df['Box office'].dropna()"
   ]
  },
  {
   "cell_type": "code",
   "execution_count": 90,
   "metadata": {},
   "outputs": [
    {
     "output_type": "execute_result",
     "data": {
      "text/plain": "34                           [US$, 4,212,828]\n54      [$6,698,361 (, United States, ), [2]]\n74                    [$6,488,144, (US), [1]]\n126                [US$1,531,489, (domestic)]\n130                          [US$, 4,803,039]\n                        ...                  \n6980               [$99.6, million, [4], [5]]\n6994                   [$365.6, million, [1]]\n6995                         [$53.8, million]\n7015                     [$435, million, [7]]\n7048                   [$529.3, million, [4]]\nName: Box office, Length: 135, dtype: object"
     },
     "metadata": {},
     "execution_count": 90
    }
   ],
   "source": [
    "# def is_not_a_string(x):\n",
    "#     return type(x) != str\n",
    "# box_office[box_office.map(is_not_a_string)]\n",
    "\n",
    "# We can update our map() call to use the lambda function directly instead of using is_not_a_string():\n",
    "box_office[box_office.map(lambda x: type(x) != str)]"
   ]
  },
  {
   "cell_type": "code",
   "execution_count": 91,
   "metadata": {},
   "outputs": [
    {
     "output_type": "execute_result",
     "data": {
      "text/plain": "0          $21.4 million\n1           $2.7 million\n2            $57,718,089\n3             $7,331,647\n4       $6,939,946 (USA)\n              ...       \n7070       $19.4 million\n7071       $41.9 million\n7072       $76.1 million\n7073       $38.4 million\n7074        $5.5 million\nName: Box office, Length: 5485, dtype: object"
     },
     "metadata": {},
     "execution_count": 91
    }
   ],
   "source": [
    "box_office = box_office.apply(lambda x: ' '.join(x) if type(x) == list else x)\n",
    "box_office"
   ]
  },
  {
   "cell_type": "code",
   "execution_count": 92,
   "metadata": {},
   "outputs": [],
   "source": [
    "form_one = r'\\$\\s*\\d+\\.?\\d*\\s*[mb]illi?on'\n",
    "form_two = r'\\$\\s*\\d{1,3}(?:[,\\.]\\d{3})+(?!\\s[mb]illion)'"
   ]
  },
  {
   "cell_type": "code",
   "execution_count": 93,
   "metadata": {},
   "outputs": [],
   "source": [
    "def parse_dollars(s):\n",
    "    # if s is not a string, return NaN\n",
    "    if type(s) != str:\n",
    "        return np.nan\n",
    "\n",
    "    # if input is of the form $###.# million\n",
    "    if re.match(r'\\$\\s*\\d+\\.?\\d*\\s*milli?on', s, flags=re.IGNORECASE):\n",
    "\n",
    "        # remove dollar sign and \" million\"\n",
    "        s = re.sub('\\$|\\s|[a-zA-Z]','', s)\n",
    "\n",
    "        # convert to float and multiply by a million\n",
    "        value = float(s) * 10**6\n",
    "\n",
    "        # return value\n",
    "        return value\n",
    "\n",
    "    # if input is of the form $###.# billion\n",
    "    elif re.match(r'\\$\\s*\\d+\\.?\\d*\\s*billi?on', s, flags=re.IGNORECASE):\n",
    "\n",
    "        # remove dollar sign and \" billion\"\n",
    "        s = re.sub('\\$|\\s|[a-zA-Z]','', s)\n",
    "\n",
    "        # convert to float and multiply by a billion\n",
    "        value = float(s) * 10**9\n",
    "\n",
    "        # return value\n",
    "        return value\n",
    "\n",
    "    # if input is of the form $###,###,###\n",
    "    elif re.match(r'\\$\\s*\\d{1,3}(?:[,\\.]\\d{3})+(?!\\s[mb]illion)', s, flags=re.IGNORECASE):\n",
    "\n",
    "        # remove dollar sign and commas\n",
    "        s = re.sub('\\$|,','', s)\n",
    "\n",
    "        # convert to float\n",
    "        value = float(s)\n",
    "\n",
    "        # return value\n",
    "        return value\n",
    "\n",
    "    # otherwise, return NaN\n",
    "    else:\n",
    "        return np.nan"
   ]
  },
  {
   "cell_type": "code",
   "execution_count": 94,
   "metadata": {},
   "outputs": [
    {
     "output_type": "execute_result",
     "data": {
      "text/plain": "                                                 url  year  \\\n0  https://en.wikipedia.org/wiki/The_Adventures_o...  1990   \n1  https://en.wikipedia.org/wiki/After_Dark,_My_S...  1990   \n2   https://en.wikipedia.org/wiki/Air_America_(film)  1990   \n3    https://en.wikipedia.org/wiki/Alice_(1990_film)  1990   \n4      https://en.wikipedia.org/wiki/Almost_an_Angel  1990   \n\n                               imdb_link                            title  \\\n0  https://www.imdb.com/title/tt0098987/  The Adventures of Ford Fairlane   \n1  https://www.imdb.com/title/tt0098994/             After Dark, My Sweet   \n2  https://www.imdb.com/title/tt0099005/                      Air America   \n3  https://www.imdb.com/title/tt0099012/                            Alice   \n4  https://www.imdb.com/title/tt0099018/                  Almost an Angel   \n\n                                            Based on  \\\n0                        [Characters, by Rex Weiner]   \n1  [the novel, After Dark, My Sweet, by, Jim Thom...   \n2             [Air America, by, Christopher Robbins]   \n3                                                NaN   \n4                                                NaN   \n\n                                            Starring  Cinematography  \\\n0  [Andrew Dice Clay, Wayne Newton, Priscilla Pre...     Oliver Wood   \n1  [Jason Patric, Rachel Ward, Bruce Dern, George...    Mark Plummer   \n2  [Mel Gibson, Robert Downey Jr., Nancy Travis, ...   Roger Deakins   \n3  [Alec Baldwin, Blythe Danner, Judy Davis, Mia ...  Carlo Di Palma   \n4        [Paul Hogan, Elias Koteas, Linda Kozlowski]    Russell Boyd   \n\n                                        Release date Running time  \\\n0                  [July 11, 1990, (, 1990-07-11, )]  102 minutes   \n1  [May 17, 1990, (, 1990-05-17, ), (Cannes Film ...  114 minutes   \n2                [August 10, 1990, (, 1990-08-10, )]  113 minutes   \n3              [December 25, 1990, (, 1990-12-25, )]  106 minutes   \n4                                  December 19, 1990   95 minutes   \n\n         Country  ...       Budget            Director         Distributor  \\\n0  United States  ...  $20 million        Renny Harlin    20th Century Fox   \n1  United States  ...   $6 million         James Foley     Avenue Pictures   \n2  United States  ...  $35 million  Roger Spottiswoode    TriStar Pictures   \n3  United States  ...  $12 million         Woody Allen      Orion Pictures   \n4             US  ...  $25 million        John Cornell  Paramount Pictures   \n\n                        Editor(s)              Composer(s)  \\\n0                 Michael Tronick  [Cliff Eidelman, Yello]   \n1                 Howard E. Smith            Maurice Jarre   \n2  [John Bloom, Lois Freeman-Fox]            Charles Gross   \n3                  Susan E. Morse                      NaN   \n4                    David Stiven            Maurice Jarre   \n\n                   Producer(s)                  Production company(s)  \\\n0   [Steve Perry, Joel Silver]                        Silver Pictures   \n1  [Ric Kidney, Robert Redlin]                        Avenue Pictures   \n2               Daniel Melnick  [Carolco Pictures, IndieProd Company]   \n3              Robert Greenhut                                    NaN   \n4                 John Cornell                                    NaN   \n\n                      Writer(s)    imdb_id  box_office  \n0   [David Arnott, James Cappe]  tt0098987  21400000.0  \n1  [James Foley, Robert Redlin]  tt0098994   2700000.0  \n2    [John Eskow, Richard Rush]  tt0099005  57718089.0  \n3                   Woody Allen  tt0099012   7331647.0  \n4                    Paul Hogan  tt0099018   6939946.0  \n\n[5 rows x 21 columns]",
      "text/html": "<div>\n<style scoped>\n    .dataframe tbody tr th:only-of-type {\n        vertical-align: middle;\n    }\n\n    .dataframe tbody tr th {\n        vertical-align: top;\n    }\n\n    .dataframe thead th {\n        text-align: right;\n    }\n</style>\n<table border=\"1\" class=\"dataframe\">\n  <thead>\n    <tr style=\"text-align: right;\">\n      <th></th>\n      <th>url</th>\n      <th>year</th>\n      <th>imdb_link</th>\n      <th>title</th>\n      <th>Based on</th>\n      <th>Starring</th>\n      <th>Cinematography</th>\n      <th>Release date</th>\n      <th>Running time</th>\n      <th>Country</th>\n      <th>...</th>\n      <th>Budget</th>\n      <th>Director</th>\n      <th>Distributor</th>\n      <th>Editor(s)</th>\n      <th>Composer(s)</th>\n      <th>Producer(s)</th>\n      <th>Production company(s)</th>\n      <th>Writer(s)</th>\n      <th>imdb_id</th>\n      <th>box_office</th>\n    </tr>\n  </thead>\n  <tbody>\n    <tr>\n      <th>0</th>\n      <td>https://en.wikipedia.org/wiki/The_Adventures_o...</td>\n      <td>1990</td>\n      <td>https://www.imdb.com/title/tt0098987/</td>\n      <td>The Adventures of Ford Fairlane</td>\n      <td>[Characters, by Rex Weiner]</td>\n      <td>[Andrew Dice Clay, Wayne Newton, Priscilla Pre...</td>\n      <td>Oliver Wood</td>\n      <td>[July 11, 1990, (, 1990-07-11, )]</td>\n      <td>102 minutes</td>\n      <td>United States</td>\n      <td>...</td>\n      <td>$20 million</td>\n      <td>Renny Harlin</td>\n      <td>20th Century Fox</td>\n      <td>Michael Tronick</td>\n      <td>[Cliff Eidelman, Yello]</td>\n      <td>[Steve Perry, Joel Silver]</td>\n      <td>Silver Pictures</td>\n      <td>[David Arnott, James Cappe]</td>\n      <td>tt0098987</td>\n      <td>21400000.0</td>\n    </tr>\n    <tr>\n      <th>1</th>\n      <td>https://en.wikipedia.org/wiki/After_Dark,_My_S...</td>\n      <td>1990</td>\n      <td>https://www.imdb.com/title/tt0098994/</td>\n      <td>After Dark, My Sweet</td>\n      <td>[the novel, After Dark, My Sweet, by, Jim Thom...</td>\n      <td>[Jason Patric, Rachel Ward, Bruce Dern, George...</td>\n      <td>Mark Plummer</td>\n      <td>[May 17, 1990, (, 1990-05-17, ), (Cannes Film ...</td>\n      <td>114 minutes</td>\n      <td>United States</td>\n      <td>...</td>\n      <td>$6 million</td>\n      <td>James Foley</td>\n      <td>Avenue Pictures</td>\n      <td>Howard E. Smith</td>\n      <td>Maurice Jarre</td>\n      <td>[Ric Kidney, Robert Redlin]</td>\n      <td>Avenue Pictures</td>\n      <td>[James Foley, Robert Redlin]</td>\n      <td>tt0098994</td>\n      <td>2700000.0</td>\n    </tr>\n    <tr>\n      <th>2</th>\n      <td>https://en.wikipedia.org/wiki/Air_America_(film)</td>\n      <td>1990</td>\n      <td>https://www.imdb.com/title/tt0099005/</td>\n      <td>Air America</td>\n      <td>[Air America, by, Christopher Robbins]</td>\n      <td>[Mel Gibson, Robert Downey Jr., Nancy Travis, ...</td>\n      <td>Roger Deakins</td>\n      <td>[August 10, 1990, (, 1990-08-10, )]</td>\n      <td>113 minutes</td>\n      <td>United States</td>\n      <td>...</td>\n      <td>$35 million</td>\n      <td>Roger Spottiswoode</td>\n      <td>TriStar Pictures</td>\n      <td>[John Bloom, Lois Freeman-Fox]</td>\n      <td>Charles Gross</td>\n      <td>Daniel Melnick</td>\n      <td>[Carolco Pictures, IndieProd Company]</td>\n      <td>[John Eskow, Richard Rush]</td>\n      <td>tt0099005</td>\n      <td>57718089.0</td>\n    </tr>\n    <tr>\n      <th>3</th>\n      <td>https://en.wikipedia.org/wiki/Alice_(1990_film)</td>\n      <td>1990</td>\n      <td>https://www.imdb.com/title/tt0099012/</td>\n      <td>Alice</td>\n      <td>NaN</td>\n      <td>[Alec Baldwin, Blythe Danner, Judy Davis, Mia ...</td>\n      <td>Carlo Di Palma</td>\n      <td>[December 25, 1990, (, 1990-12-25, )]</td>\n      <td>106 minutes</td>\n      <td>United States</td>\n      <td>...</td>\n      <td>$12 million</td>\n      <td>Woody Allen</td>\n      <td>Orion Pictures</td>\n      <td>Susan E. Morse</td>\n      <td>NaN</td>\n      <td>Robert Greenhut</td>\n      <td>NaN</td>\n      <td>Woody Allen</td>\n      <td>tt0099012</td>\n      <td>7331647.0</td>\n    </tr>\n    <tr>\n      <th>4</th>\n      <td>https://en.wikipedia.org/wiki/Almost_an_Angel</td>\n      <td>1990</td>\n      <td>https://www.imdb.com/title/tt0099018/</td>\n      <td>Almost an Angel</td>\n      <td>NaN</td>\n      <td>[Paul Hogan, Elias Koteas, Linda Kozlowski]</td>\n      <td>Russell Boyd</td>\n      <td>December 19, 1990</td>\n      <td>95 minutes</td>\n      <td>US</td>\n      <td>...</td>\n      <td>$25 million</td>\n      <td>John Cornell</td>\n      <td>Paramount Pictures</td>\n      <td>David Stiven</td>\n      <td>Maurice Jarre</td>\n      <td>John Cornell</td>\n      <td>NaN</td>\n      <td>Paul Hogan</td>\n      <td>tt0099018</td>\n      <td>6939946.0</td>\n    </tr>\n  </tbody>\n</table>\n<p>5 rows × 21 columns</p>\n</div>"
     },
     "metadata": {},
     "execution_count": 94
    }
   ],
   "source": [
    "wiki_movies_df['box_office'] = box_office.str.extract(f'({form_one}|{form_two})', flags=re.IGNORECASE)[0].apply(parse_dollars)\n",
    "wiki_movies_df.drop('Box office', axis=1, inplace=True)\n",
    "wiki_movies_df.head()"
   ]
  },
  {
   "cell_type": "code",
   "execution_count": 95,
   "metadata": {},
   "outputs": [],
   "source": [
    "budget = wiki_movies_df['Budget'].dropna()"
   ]
  },
  {
   "cell_type": "code",
   "execution_count": 96,
   "metadata": {},
   "outputs": [],
   "source": [
    "budget = budget.map(lambda x: ' '.join(x) if type(x) == list else x)"
   ]
  },
  {
   "cell_type": "code",
   "execution_count": 97,
   "metadata": {},
   "outputs": [],
   "source": [
    "budget = budget.str.replace(r'\\$.*[-—–](?![a-z])', '$', regex=True)"
   ]
  },
  {
   "cell_type": "code",
   "execution_count": 98,
   "metadata": {},
   "outputs": [
    {
     "output_type": "execute_result",
     "data": {
      "text/plain": "136                         Unknown\n204     60 million Norwegian Kroner\n478                         Unknown\n973             $34 [3] [4] million\n1126               $120 [4] million\n1226                        Unknown\n1278                            HBO\n1374                     £6,000,000\n1397                     13 million\n1480                   £2.8 million\n1734                   CAD2,000,000\n1913     PHP 85 million (estimated)\n1948                    102,888,900\n1953                   3,500,000 DM\n1973                     ₤2,300,874\n2281                     $14 milion\n2451                     ₤6,350,000\n3144                   € 40 million\n3360               $150 [6] million\n3418                        $218.32\n3802                   £4.2 million\n3906                            N/A\n3959                    760,000 USD\n4470                       19 crore\n4641                    £17 million\n5034              $$200 [4] million\n5055           $155 [2] [3] million\n5419                $40 [4] million\n5424                            N/A\n5447                     £4 million\n5671                    €14 million\n5687                   $ dead link]\n6385               £ 12 million [3]\n6593                     £3 million\n6821                  £12.9 million\n6843                      3.5 crore\n6895                        919,000\n7070                   €4.3 million\nName: Budget, dtype: object"
     },
     "metadata": {},
     "execution_count": 98
    }
   ],
   "source": [
    "matches_form_one = budget.str.contains(form_one, flags=re.IGNORECASE)\n",
    "matches_form_two = budget.str.contains(form_two, flags=re.IGNORECASE)\n",
    "budget[~matches_form_one & ~matches_form_two]"
   ]
  },
  {
   "cell_type": "code",
   "execution_count": 99,
   "metadata": {},
   "outputs": [
    {
     "output_type": "execute_result",
     "data": {
      "text/plain": "136                         Unknown\n204     60 million Norwegian Kroner\n478                         Unknown\n973                     $34 million\n1126                   $120 million\n1226                        Unknown\n1278                            HBO\n1374                     £6,000,000\n1397                     13 million\n1480                   £2.8 million\n1734                   CAD2,000,000\n1913     PHP 85 million (estimated)\n1948                    102,888,900\n1953                   3,500,000 DM\n1973                     ₤2,300,874\n2281                     $14 milion\n2451                     ₤6,350,000\n3144                   € 40 million\n3360                   $150 million\n3418                        $218.32\n3802                   £4.2 million\n3906                            N/A\n3959                    760,000 USD\n4470                       19 crore\n4641                    £17 million\n5034                  $$200 million\n5055                   $155 million\n5419                    $40 million\n5424                            N/A\n5447                     £4 million\n5671                    €14 million\n5687                   $ dead link]\n6385                  £ 12 million \n6593                     £3 million\n6821                  £12.9 million\n6843                      3.5 crore\n6895                        919,000\n7070                   €4.3 million\nName: Budget, dtype: object"
     },
     "metadata": {},
     "execution_count": 99
    }
   ],
   "source": [
    "budget = budget.str.replace(r'\\[\\d+\\]\\s*', '')\n",
    "budget[~matches_form_one & ~matches_form_two]"
   ]
  },
  {
   "cell_type": "code",
   "execution_count": 100,
   "metadata": {},
   "outputs": [],
   "source": [
    "wiki_movies_df['budget'] = budget.str.extract(f'({form_one}|{form_two})', flags=re.IGNORECASE)[0].apply(parse_dollars)"
   ]
  },
  {
   "cell_type": "code",
   "execution_count": 101,
   "metadata": {},
   "outputs": [],
   "source": [
    "wiki_movies_df.drop('Budget', axis=1, inplace=True)"
   ]
  },
  {
   "cell_type": "code",
   "execution_count": 102,
   "metadata": {},
   "outputs": [],
   "source": [
    "release_date = wiki_movies_df['Release date'].dropna().apply(lambda x: ' '.join(x) if type(x) == list else x)"
   ]
  },
  {
   "cell_type": "code",
   "execution_count": 103,
   "metadata": {},
   "outputs": [],
   "source": [
    "date_form_one = r'(?:January|February|March|April|May|June|July|August|September|October|November|December)\\s[123]\\d,\\s\\d{4}'\n",
    "date_form_two = r'\\d{4}.[01]\\d.[123]\\d'\n",
    "date_form_three = r'(?:January|February|March|April|May|June|July|August|September|October|November|December)\\s\\d{4}'\n",
    "date_form_four = r'\\d{4}'"
   ]
  },
  {
   "cell_type": "code",
   "execution_count": 104,
   "metadata": {},
   "outputs": [
    {
     "output_type": "execute_result",
     "data": {
      "text/plain": "                      0\n0         July 11, 1990\n1          May 17, 1990\n2       August 10, 1990\n3     December 25, 1990\n4     December 19, 1990\n...                 ...\n7071  December 25, 2018\n7072  December 11, 2018\n7073               2018\n7074    August 31, 2018\n7075      December 2018\n\n[7001 rows x 1 columns]",
      "text/html": "<div>\n<style scoped>\n    .dataframe tbody tr th:only-of-type {\n        vertical-align: middle;\n    }\n\n    .dataframe tbody tr th {\n        vertical-align: top;\n    }\n\n    .dataframe thead th {\n        text-align: right;\n    }\n</style>\n<table border=\"1\" class=\"dataframe\">\n  <thead>\n    <tr style=\"text-align: right;\">\n      <th></th>\n      <th>0</th>\n    </tr>\n  </thead>\n  <tbody>\n    <tr>\n      <th>0</th>\n      <td>July 11, 1990</td>\n    </tr>\n    <tr>\n      <th>1</th>\n      <td>May 17, 1990</td>\n    </tr>\n    <tr>\n      <th>2</th>\n      <td>August 10, 1990</td>\n    </tr>\n    <tr>\n      <th>3</th>\n      <td>December 25, 1990</td>\n    </tr>\n    <tr>\n      <th>4</th>\n      <td>December 19, 1990</td>\n    </tr>\n    <tr>\n      <th>...</th>\n      <td>...</td>\n    </tr>\n    <tr>\n      <th>7071</th>\n      <td>December 25, 2018</td>\n    </tr>\n    <tr>\n      <th>7072</th>\n      <td>December 11, 2018</td>\n    </tr>\n    <tr>\n      <th>7073</th>\n      <td>2018</td>\n    </tr>\n    <tr>\n      <th>7074</th>\n      <td>August 31, 2018</td>\n    </tr>\n    <tr>\n      <th>7075</th>\n      <td>December 2018</td>\n    </tr>\n  </tbody>\n</table>\n<p>7001 rows × 1 columns</p>\n</div>"
     },
     "metadata": {},
     "execution_count": 104
    }
   ],
   "source": [
    "release_date.str.extract(f'({date_form_one}|{date_form_two}|{date_form_three}|{date_form_four})', flags=re.IGNORECASE)"
   ]
  },
  {
   "cell_type": "code",
   "execution_count": 105,
   "metadata": {},
   "outputs": [],
   "source": [
    "wiki_movies_df['release_date'] = pd.to_datetime(release_date.str.extract(f'({date_form_one}|{date_form_two}|{date_form_three}|{date_form_four})')[0], infer_datetime_format=True)"
   ]
  },
  {
   "cell_type": "code",
   "execution_count": 106,
   "metadata": {},
   "outputs": [],
   "source": [
    "running_time = wiki_movies_df['Running time'].dropna().apply(lambda x: ' '.join(x) if type(x) == list else x)"
   ]
  },
  {
   "cell_type": "code",
   "execution_count": 107,
   "metadata": {},
   "outputs": [
    {
     "output_type": "execute_result",
     "data": {
      "text/plain": "6528"
     },
     "metadata": {},
     "execution_count": 107
    }
   ],
   "source": [
    "running_time.str.contains(r'^\\d*\\s*minutes$', flags=re.IGNORECASE).sum()"
   ]
  },
  {
   "cell_type": "code",
   "execution_count": 108,
   "metadata": {},
   "outputs": [
    {
     "output_type": "execute_result",
     "data": {
      "text/plain": "9                                                 102 min\n26                                                 93 min\n28                                                32 min.\n34                                                101 min\n35                                                 97 min\n                              ...                        \n6500       114 minutes [1] 120 minutes (extended edition)\n6643                                             104 mins\n6709    90 minutes (theatrical) [1] 91 minutes (unrate...\n7057    108 minutes (Original cut) 98 minutes (UK cut)...\n7075                Variable; 90 minutes for default path\nName: Running time, Length: 366, dtype: object"
     },
     "metadata": {},
     "execution_count": 108
    }
   ],
   "source": [
    "running_time[running_time.str.contains(r'^\\d*\\s*minutes$', flags=re.IGNORECASE) != True]"
   ]
  },
  {
   "cell_type": "code",
   "execution_count": 109,
   "metadata": {},
   "outputs": [
    {
     "output_type": "execute_result",
     "data": {
      "text/plain": "6877"
     },
     "metadata": {},
     "execution_count": 109
    }
   ],
   "source": [
    "running_time.str.contains(r'^\\d*\\s*m', flags=re.IGNORECASE).sum()"
   ]
  },
  {
   "cell_type": "code",
   "execution_count": 110,
   "metadata": {},
   "outputs": [
    {
     "output_type": "execute_result",
     "data": {
      "text/plain": "668                     UK:84 min (DVD version) US:86 min\n727                         78-102 min (depending on cut)\n840                       Varies (79 [3] –84 [1] minutes)\n1347                                              25 : 03\n1443    United States: 77 minutes Argentina: 94 minute...\n1499                                            1hr 35min\n1551                                               varies\n1774                    Netherlands:96 min, Canada:95 min\n1777                                       approx. 14 min\n2273                                           1 h 43 min\n2993                                               1h 48m\n3925                                              4 hours\n4425    US domestic version: 86 minutes Original versi...\n4967    Theatrical cut: 97 minutes Unrated cut: 107 mi...\n5424                    115 [1] /123 [2] /128 [3] minutes\n5447                                    1 hour 32 minutes\n7075                Variable; 90 minutes for default path\nName: Running time, dtype: object"
     },
     "metadata": {},
     "execution_count": 110
    }
   ],
   "source": [
    "running_time[running_time.str.contains(r'^\\d*\\s*m', flags=re.IGNORECASE) != True]"
   ]
  },
  {
   "cell_type": "code",
   "execution_count": 111,
   "metadata": {},
   "outputs": [],
   "source": [
    "running_time_extract = running_time.str.extract(r'(\\d+)\\s*ho?u?r?s?\\s*(\\d*)|(\\d+)\\s*m')"
   ]
  },
  {
   "cell_type": "code",
   "execution_count": 112,
   "metadata": {},
   "outputs": [],
   "source": [
    "running_time_extract = running_time_extract.apply(lambda col: pd.to_numeric(col, errors='coerce')).fillna(0)"
   ]
  },
  {
   "cell_type": "code",
   "execution_count": 113,
   "metadata": {},
   "outputs": [],
   "source": [
    "wiki_movies_df['running_time'] = running_time_extract.apply(lambda row: row[0]*60 + row[1] if row[2] == 0 else row[2], axis=1)"
   ]
  },
  {
   "cell_type": "code",
   "execution_count": 114,
   "metadata": {},
   "outputs": [],
   "source": [
    "wiki_movies_df.drop('Running time', axis=1, inplace=True)"
   ]
  },
  {
   "cell_type": "code",
   "execution_count": 115,
   "metadata": {},
   "outputs": [
    {
     "output_type": "execute_result",
     "data": {
      "text/plain": "adult                     object\nbelongs_to_collection     object\nbudget                    object\ngenres                    object\nhomepage                  object\nid                        object\nimdb_id                   object\noriginal_language         object\noriginal_title            object\noverview                  object\npopularity                object\nposter_path               object\nproduction_companies      object\nproduction_countries      object\nrelease_date              object\nrevenue                  float64\nruntime                  float64\nspoken_languages          object\nstatus                    object\ntagline                   object\ntitle                     object\nvideo                     object\nvote_average             float64\nvote_count               float64\ndtype: object"
     },
     "metadata": {},
     "execution_count": 115
    }
   ],
   "source": [
    "kaggle_metadata.dtypes"
   ]
  },
  {
   "cell_type": "code",
   "execution_count": 116,
   "metadata": {},
   "outputs": [
    {
     "output_type": "execute_result",
     "data": {
      "text/plain": "False                                                                                                                             45454\nTrue                                                                                                                                  9\n - Written by Ørnås                                                                                                                   1\n Avalanche Sharks tells the story of a bikini contest that turns into a horrifying affair when it is hit by a shark avalanche.        1\n Rune Balot goes to a casino connected to the October corporation to try to wrap up her case once and for all.                        1\nName: adult, dtype: int64"
     },
     "metadata": {},
     "execution_count": 116
    }
   ],
   "source": [
    "kaggle_metadata['adult'].value_counts()"
   ]
  },
  {
   "cell_type": "code",
   "execution_count": 117,
   "metadata": {},
   "outputs": [
    {
     "output_type": "execute_result",
     "data": {
      "text/plain": "                                                   adult  \\\n19730                                 - Written by Ørnås   \n29503   Rune Balot goes to a casino connected to the ...   \n35587   Avalanche Sharks tells the story of a bikini ...   \n\n      belongs_to_collection                            budget  \\\n19730              0.065736  /ff9qCepilowshEtG2GYWwzt2bs4.jpg   \n29503              1.931659  /zV8bHuSL6WXoD6FWogP9j4x80bL.jpg   \n35587              2.185485  /zaSf5OG7V8X8gqFvly88zDdRm46.jpg   \n\n                                                  genres  \\\n19730  [{'name': 'Carousel Productions', 'id': 11176}...   \n29503  [{'name': 'Aniplex', 'id': 2883}, {'name': 'Go...   \n35587  [{'name': 'Odyssey Media', 'id': 17161}, {'nam...   \n\n                                                homepage          id imdb_id  \\\n19730  [{'iso_3166_1': 'CA', 'name': 'Canada'}, {'iso...  1997-08-20       0   \n29503  [{'iso_3166_1': 'US', 'name': 'United States o...  2012-09-29       0   \n35587           [{'iso_3166_1': 'CA', 'name': 'Canada'}]  2014-01-01       0   \n\n      original_language                            original_title  overview  \\\n19730             104.0  [{'iso_639_1': 'en', 'name': 'English'}]  Released   \n29503              68.0      [{'iso_639_1': 'ja', 'name': '日本語'}]  Released   \n35587              82.0  [{'iso_639_1': 'en', 'name': 'English'}]  Released   \n\n       ... release_date revenue runtime spoken_languages status  tagline  \\\n19730  ...            1     NaN     NaN              NaN    NaN      NaN   \n29503  ...           12     NaN     NaN              NaN    NaN      NaN   \n35587  ...           22     NaN     NaN              NaN    NaN      NaN   \n\n       title video vote_average vote_count  \n19730    NaN   NaN          NaN        NaN  \n29503    NaN   NaN          NaN        NaN  \n35587    NaN   NaN          NaN        NaN  \n\n[3 rows x 24 columns]",
      "text/html": "<div>\n<style scoped>\n    .dataframe tbody tr th:only-of-type {\n        vertical-align: middle;\n    }\n\n    .dataframe tbody tr th {\n        vertical-align: top;\n    }\n\n    .dataframe thead th {\n        text-align: right;\n    }\n</style>\n<table border=\"1\" class=\"dataframe\">\n  <thead>\n    <tr style=\"text-align: right;\">\n      <th></th>\n      <th>adult</th>\n      <th>belongs_to_collection</th>\n      <th>budget</th>\n      <th>genres</th>\n      <th>homepage</th>\n      <th>id</th>\n      <th>imdb_id</th>\n      <th>original_language</th>\n      <th>original_title</th>\n      <th>overview</th>\n      <th>...</th>\n      <th>release_date</th>\n      <th>revenue</th>\n      <th>runtime</th>\n      <th>spoken_languages</th>\n      <th>status</th>\n      <th>tagline</th>\n      <th>title</th>\n      <th>video</th>\n      <th>vote_average</th>\n      <th>vote_count</th>\n    </tr>\n  </thead>\n  <tbody>\n    <tr>\n      <th>19730</th>\n      <td>- Written by Ørnås</td>\n      <td>0.065736</td>\n      <td>/ff9qCepilowshEtG2GYWwzt2bs4.jpg</td>\n      <td>[{'name': 'Carousel Productions', 'id': 11176}...</td>\n      <td>[{'iso_3166_1': 'CA', 'name': 'Canada'}, {'iso...</td>\n      <td>1997-08-20</td>\n      <td>0</td>\n      <td>104.0</td>\n      <td>[{'iso_639_1': 'en', 'name': 'English'}]</td>\n      <td>Released</td>\n      <td>...</td>\n      <td>1</td>\n      <td>NaN</td>\n      <td>NaN</td>\n      <td>NaN</td>\n      <td>NaN</td>\n      <td>NaN</td>\n      <td>NaN</td>\n      <td>NaN</td>\n      <td>NaN</td>\n      <td>NaN</td>\n    </tr>\n    <tr>\n      <th>29503</th>\n      <td>Rune Balot goes to a casino connected to the ...</td>\n      <td>1.931659</td>\n      <td>/zV8bHuSL6WXoD6FWogP9j4x80bL.jpg</td>\n      <td>[{'name': 'Aniplex', 'id': 2883}, {'name': 'Go...</td>\n      <td>[{'iso_3166_1': 'US', 'name': 'United States o...</td>\n      <td>2012-09-29</td>\n      <td>0</td>\n      <td>68.0</td>\n      <td>[{'iso_639_1': 'ja', 'name': '日本語'}]</td>\n      <td>Released</td>\n      <td>...</td>\n      <td>12</td>\n      <td>NaN</td>\n      <td>NaN</td>\n      <td>NaN</td>\n      <td>NaN</td>\n      <td>NaN</td>\n      <td>NaN</td>\n      <td>NaN</td>\n      <td>NaN</td>\n      <td>NaN</td>\n    </tr>\n    <tr>\n      <th>35587</th>\n      <td>Avalanche Sharks tells the story of a bikini ...</td>\n      <td>2.185485</td>\n      <td>/zaSf5OG7V8X8gqFvly88zDdRm46.jpg</td>\n      <td>[{'name': 'Odyssey Media', 'id': 17161}, {'nam...</td>\n      <td>[{'iso_3166_1': 'CA', 'name': 'Canada'}]</td>\n      <td>2014-01-01</td>\n      <td>0</td>\n      <td>82.0</td>\n      <td>[{'iso_639_1': 'en', 'name': 'English'}]</td>\n      <td>Released</td>\n      <td>...</td>\n      <td>22</td>\n      <td>NaN</td>\n      <td>NaN</td>\n      <td>NaN</td>\n      <td>NaN</td>\n      <td>NaN</td>\n      <td>NaN</td>\n      <td>NaN</td>\n      <td>NaN</td>\n      <td>NaN</td>\n    </tr>\n  </tbody>\n</table>\n<p>3 rows × 24 columns</p>\n</div>"
     },
     "metadata": {},
     "execution_count": 117
    }
   ],
   "source": [
    "kaggle_metadata[~kaggle_metadata['adult'].isin(['True', 'False'])]"
   ]
  },
  {
   "cell_type": "code",
   "execution_count": 118,
   "metadata": {},
   "outputs": [
    {
     "output_type": "execute_result",
     "data": {
      "text/plain": "                                   belongs_to_collection    budget  \\\n0      {'id': 10194, 'name': 'Toy Story Collection', ...  30000000   \n1                                                    NaN  65000000   \n2      {'id': 119050, 'name': 'Grumpy Old Men Collect...         0   \n3                                                    NaN  16000000   \n4      {'id': 96871, 'name': 'Father of the Bride Col...         0   \n...                                                  ...       ...   \n45461                                                NaN         0   \n45462                                                NaN         0   \n45463                                                NaN         0   \n45464                                                NaN         0   \n45465                                                NaN         0   \n\n                                                  genres  \\\n0      [{'id': 16, 'name': 'Animation'}, {'id': 35, '...   \n1      [{'id': 12, 'name': 'Adventure'}, {'id': 14, '...   \n2      [{'id': 10749, 'name': 'Romance'}, {'id': 35, ...   \n3      [{'id': 35, 'name': 'Comedy'}, {'id': 18, 'nam...   \n4                         [{'id': 35, 'name': 'Comedy'}]   \n...                                                  ...   \n45461  [{'id': 18, 'name': 'Drama'}, {'id': 10751, 'n...   \n45462                      [{'id': 18, 'name': 'Drama'}]   \n45463  [{'id': 28, 'name': 'Action'}, {'id': 18, 'nam...   \n45464                                                 []   \n45465                                                 []   \n\n                                   homepage      id    imdb_id  \\\n0      http://toystory.disney.com/toy-story     862  tt0114709   \n1                                       NaN    8844  tt0113497   \n2                                       NaN   15602  tt0113228   \n3                                       NaN   31357  tt0114885   \n4                                       NaN   11862  tt0113041   \n...                                     ...     ...        ...   \n45461  http://www.imdb.com/title/tt6209470/  439050  tt6209470   \n45462                                   NaN  111109  tt2028550   \n45463                                   NaN   67758  tt0303758   \n45464                                   NaN  227506  tt0008536   \n45465                                   NaN  461257  tt6980792   \n\n      original_language               original_title  \\\n0                    en                    Toy Story   \n1                    en                      Jumanji   \n2                    en             Grumpier Old Men   \n3                    en            Waiting to Exhale   \n4                    en  Father of the Bride Part II   \n...                 ...                          ...   \n45461                fa                      رگ خواب   \n45462                tl          Siglo ng Pagluluwal   \n45463                en                     Betrayal   \n45464                en          Satana likuyushchiy   \n45465                en                     Queerama   \n\n                                                overview popularity  ...  \\\n0      Led by Woody, Andy's toys live happily in his ...    21.9469  ...   \n1      When siblings Judy and Peter discover an encha...    17.0155  ...   \n2      A family wedding reignites the ancient feud be...    11.7129  ...   \n3      Cheated on, mistreated and stepped on, the wom...    3.85949  ...   \n4      Just when George Banks has recovered from his ...    8.38752  ...   \n...                                                  ...        ...  ...   \n45461        Rising and falling between a man and woman.   0.072051  ...   \n45462  An artist struggles to finish his work while a...   0.178241  ...   \n45463  When one of her hits goes wrong, a professiona...   0.903007  ...   \n45464  In a small town live two brothers, one a minis...   0.003503  ...   \n45465  50 years after decriminalisation of homosexual...   0.163015  ...   \n\n      release_date      revenue runtime  \\\n0       1995-10-30  373554033.0    81.0   \n1       1995-12-15  262797249.0   104.0   \n2       1995-12-22          0.0   101.0   \n3       1995-12-22   81452156.0   127.0   \n4       1995-02-10   76578911.0   106.0   \n...            ...          ...     ...   \n45461          NaN          0.0    90.0   \n45462   2011-11-17          0.0   360.0   \n45463   2003-08-01          0.0    90.0   \n45464   1917-10-21          0.0    87.0   \n45465   2017-06-09          0.0    75.0   \n\n                                        spoken_languages    status  \\\n0               [{'iso_639_1': 'en', 'name': 'English'}]  Released   \n1      [{'iso_639_1': 'en', 'name': 'English'}, {'iso...  Released   \n2               [{'iso_639_1': 'en', 'name': 'English'}]  Released   \n3               [{'iso_639_1': 'en', 'name': 'English'}]  Released   \n4               [{'iso_639_1': 'en', 'name': 'English'}]  Released   \n...                                                  ...       ...   \n45461             [{'iso_639_1': 'fa', 'name': 'فارسی'}]  Released   \n45462                  [{'iso_639_1': 'tl', 'name': ''}]  Released   \n45463           [{'iso_639_1': 'en', 'name': 'English'}]  Released   \n45464                                                 []  Released   \n45465           [{'iso_639_1': 'en', 'name': 'English'}]  Released   \n\n                                                 tagline  \\\n0                                                    NaN   \n1              Roll the dice and unleash the excitement!   \n2      Still Yelling. Still Fighting. Still Ready for...   \n3      Friends are the people who let you be yourself...   \n4      Just When His World Is Back To Normal... He's ...   \n...                                                  ...   \n45461         Rising and falling between a man and woman   \n45462                                                NaN   \n45463                             A deadly game of wits.   \n45464                                                NaN   \n45465                                                NaN   \n\n                             title  video vote_average vote_count  \n0                        Toy Story  False          7.7     5415.0  \n1                          Jumanji  False          6.9     2413.0  \n2                 Grumpier Old Men  False          6.5       92.0  \n3                Waiting to Exhale  False          6.1       34.0  \n4      Father of the Bride Part II  False          5.7      173.0  \n...                            ...    ...          ...        ...  \n45461                       Subdue  False          4.0        1.0  \n45462          Century of Birthing  False          9.0        3.0  \n45463                     Betrayal  False          3.8        6.0  \n45464             Satan Triumphant  False          0.0        0.0  \n45465                     Queerama  False          0.0        0.0  \n\n[45454 rows x 23 columns]",
      "text/html": "<div>\n<style scoped>\n    .dataframe tbody tr th:only-of-type {\n        vertical-align: middle;\n    }\n\n    .dataframe tbody tr th {\n        vertical-align: top;\n    }\n\n    .dataframe thead th {\n        text-align: right;\n    }\n</style>\n<table border=\"1\" class=\"dataframe\">\n  <thead>\n    <tr style=\"text-align: right;\">\n      <th></th>\n      <th>belongs_to_collection</th>\n      <th>budget</th>\n      <th>genres</th>\n      <th>homepage</th>\n      <th>id</th>\n      <th>imdb_id</th>\n      <th>original_language</th>\n      <th>original_title</th>\n      <th>overview</th>\n      <th>popularity</th>\n      <th>...</th>\n      <th>release_date</th>\n      <th>revenue</th>\n      <th>runtime</th>\n      <th>spoken_languages</th>\n      <th>status</th>\n      <th>tagline</th>\n      <th>title</th>\n      <th>video</th>\n      <th>vote_average</th>\n      <th>vote_count</th>\n    </tr>\n  </thead>\n  <tbody>\n    <tr>\n      <th>0</th>\n      <td>{'id': 10194, 'name': 'Toy Story Collection', ...</td>\n      <td>30000000</td>\n      <td>[{'id': 16, 'name': 'Animation'}, {'id': 35, '...</td>\n      <td>http://toystory.disney.com/toy-story</td>\n      <td>862</td>\n      <td>tt0114709</td>\n      <td>en</td>\n      <td>Toy Story</td>\n      <td>Led by Woody, Andy's toys live happily in his ...</td>\n      <td>21.9469</td>\n      <td>...</td>\n      <td>1995-10-30</td>\n      <td>373554033.0</td>\n      <td>81.0</td>\n      <td>[{'iso_639_1': 'en', 'name': 'English'}]</td>\n      <td>Released</td>\n      <td>NaN</td>\n      <td>Toy Story</td>\n      <td>False</td>\n      <td>7.7</td>\n      <td>5415.0</td>\n    </tr>\n    <tr>\n      <th>1</th>\n      <td>NaN</td>\n      <td>65000000</td>\n      <td>[{'id': 12, 'name': 'Adventure'}, {'id': 14, '...</td>\n      <td>NaN</td>\n      <td>8844</td>\n      <td>tt0113497</td>\n      <td>en</td>\n      <td>Jumanji</td>\n      <td>When siblings Judy and Peter discover an encha...</td>\n      <td>17.0155</td>\n      <td>...</td>\n      <td>1995-12-15</td>\n      <td>262797249.0</td>\n      <td>104.0</td>\n      <td>[{'iso_639_1': 'en', 'name': 'English'}, {'iso...</td>\n      <td>Released</td>\n      <td>Roll the dice and unleash the excitement!</td>\n      <td>Jumanji</td>\n      <td>False</td>\n      <td>6.9</td>\n      <td>2413.0</td>\n    </tr>\n    <tr>\n      <th>2</th>\n      <td>{'id': 119050, 'name': 'Grumpy Old Men Collect...</td>\n      <td>0</td>\n      <td>[{'id': 10749, 'name': 'Romance'}, {'id': 35, ...</td>\n      <td>NaN</td>\n      <td>15602</td>\n      <td>tt0113228</td>\n      <td>en</td>\n      <td>Grumpier Old Men</td>\n      <td>A family wedding reignites the ancient feud be...</td>\n      <td>11.7129</td>\n      <td>...</td>\n      <td>1995-12-22</td>\n      <td>0.0</td>\n      <td>101.0</td>\n      <td>[{'iso_639_1': 'en', 'name': 'English'}]</td>\n      <td>Released</td>\n      <td>Still Yelling. Still Fighting. Still Ready for...</td>\n      <td>Grumpier Old Men</td>\n      <td>False</td>\n      <td>6.5</td>\n      <td>92.0</td>\n    </tr>\n    <tr>\n      <th>3</th>\n      <td>NaN</td>\n      <td>16000000</td>\n      <td>[{'id': 35, 'name': 'Comedy'}, {'id': 18, 'nam...</td>\n      <td>NaN</td>\n      <td>31357</td>\n      <td>tt0114885</td>\n      <td>en</td>\n      <td>Waiting to Exhale</td>\n      <td>Cheated on, mistreated and stepped on, the wom...</td>\n      <td>3.85949</td>\n      <td>...</td>\n      <td>1995-12-22</td>\n      <td>81452156.0</td>\n      <td>127.0</td>\n      <td>[{'iso_639_1': 'en', 'name': 'English'}]</td>\n      <td>Released</td>\n      <td>Friends are the people who let you be yourself...</td>\n      <td>Waiting to Exhale</td>\n      <td>False</td>\n      <td>6.1</td>\n      <td>34.0</td>\n    </tr>\n    <tr>\n      <th>4</th>\n      <td>{'id': 96871, 'name': 'Father of the Bride Col...</td>\n      <td>0</td>\n      <td>[{'id': 35, 'name': 'Comedy'}]</td>\n      <td>NaN</td>\n      <td>11862</td>\n      <td>tt0113041</td>\n      <td>en</td>\n      <td>Father of the Bride Part II</td>\n      <td>Just when George Banks has recovered from his ...</td>\n      <td>8.38752</td>\n      <td>...</td>\n      <td>1995-02-10</td>\n      <td>76578911.0</td>\n      <td>106.0</td>\n      <td>[{'iso_639_1': 'en', 'name': 'English'}]</td>\n      <td>Released</td>\n      <td>Just When His World Is Back To Normal... He's ...</td>\n      <td>Father of the Bride Part II</td>\n      <td>False</td>\n      <td>5.7</td>\n      <td>173.0</td>\n    </tr>\n    <tr>\n      <th>...</th>\n      <td>...</td>\n      <td>...</td>\n      <td>...</td>\n      <td>...</td>\n      <td>...</td>\n      <td>...</td>\n      <td>...</td>\n      <td>...</td>\n      <td>...</td>\n      <td>...</td>\n      <td>...</td>\n      <td>...</td>\n      <td>...</td>\n      <td>...</td>\n      <td>...</td>\n      <td>...</td>\n      <td>...</td>\n      <td>...</td>\n      <td>...</td>\n      <td>...</td>\n      <td>...</td>\n    </tr>\n    <tr>\n      <th>45461</th>\n      <td>NaN</td>\n      <td>0</td>\n      <td>[{'id': 18, 'name': 'Drama'}, {'id': 10751, 'n...</td>\n      <td>http://www.imdb.com/title/tt6209470/</td>\n      <td>439050</td>\n      <td>tt6209470</td>\n      <td>fa</td>\n      <td>رگ خواب</td>\n      <td>Rising and falling between a man and woman.</td>\n      <td>0.072051</td>\n      <td>...</td>\n      <td>NaN</td>\n      <td>0.0</td>\n      <td>90.0</td>\n      <td>[{'iso_639_1': 'fa', 'name': 'فارسی'}]</td>\n      <td>Released</td>\n      <td>Rising and falling between a man and woman</td>\n      <td>Subdue</td>\n      <td>False</td>\n      <td>4.0</td>\n      <td>1.0</td>\n    </tr>\n    <tr>\n      <th>45462</th>\n      <td>NaN</td>\n      <td>0</td>\n      <td>[{'id': 18, 'name': 'Drama'}]</td>\n      <td>NaN</td>\n      <td>111109</td>\n      <td>tt2028550</td>\n      <td>tl</td>\n      <td>Siglo ng Pagluluwal</td>\n      <td>An artist struggles to finish his work while a...</td>\n      <td>0.178241</td>\n      <td>...</td>\n      <td>2011-11-17</td>\n      <td>0.0</td>\n      <td>360.0</td>\n      <td>[{'iso_639_1': 'tl', 'name': ''}]</td>\n      <td>Released</td>\n      <td>NaN</td>\n      <td>Century of Birthing</td>\n      <td>False</td>\n      <td>9.0</td>\n      <td>3.0</td>\n    </tr>\n    <tr>\n      <th>45463</th>\n      <td>NaN</td>\n      <td>0</td>\n      <td>[{'id': 28, 'name': 'Action'}, {'id': 18, 'nam...</td>\n      <td>NaN</td>\n      <td>67758</td>\n      <td>tt0303758</td>\n      <td>en</td>\n      <td>Betrayal</td>\n      <td>When one of her hits goes wrong, a professiona...</td>\n      <td>0.903007</td>\n      <td>...</td>\n      <td>2003-08-01</td>\n      <td>0.0</td>\n      <td>90.0</td>\n      <td>[{'iso_639_1': 'en', 'name': 'English'}]</td>\n      <td>Released</td>\n      <td>A deadly game of wits.</td>\n      <td>Betrayal</td>\n      <td>False</td>\n      <td>3.8</td>\n      <td>6.0</td>\n    </tr>\n    <tr>\n      <th>45464</th>\n      <td>NaN</td>\n      <td>0</td>\n      <td>[]</td>\n      <td>NaN</td>\n      <td>227506</td>\n      <td>tt0008536</td>\n      <td>en</td>\n      <td>Satana likuyushchiy</td>\n      <td>In a small town live two brothers, one a minis...</td>\n      <td>0.003503</td>\n      <td>...</td>\n      <td>1917-10-21</td>\n      <td>0.0</td>\n      <td>87.0</td>\n      <td>[]</td>\n      <td>Released</td>\n      <td>NaN</td>\n      <td>Satan Triumphant</td>\n      <td>False</td>\n      <td>0.0</td>\n      <td>0.0</td>\n    </tr>\n    <tr>\n      <th>45465</th>\n      <td>NaN</td>\n      <td>0</td>\n      <td>[]</td>\n      <td>NaN</td>\n      <td>461257</td>\n      <td>tt6980792</td>\n      <td>en</td>\n      <td>Queerama</td>\n      <td>50 years after decriminalisation of homosexual...</td>\n      <td>0.163015</td>\n      <td>...</td>\n      <td>2017-06-09</td>\n      <td>0.0</td>\n      <td>75.0</td>\n      <td>[{'iso_639_1': 'en', 'name': 'English'}]</td>\n      <td>Released</td>\n      <td>NaN</td>\n      <td>Queerama</td>\n      <td>False</td>\n      <td>0.0</td>\n      <td>0.0</td>\n    </tr>\n  </tbody>\n</table>\n<p>45454 rows × 23 columns</p>\n</div>"
     },
     "metadata": {},
     "execution_count": 118
    }
   ],
   "source": [
    "kaggle_metadata = kaggle_metadata[kaggle_metadata['adult'] == 'False'].drop('adult', axis='columns')\n",
    "kaggle_metadata"
   ]
  },
  {
   "cell_type": "code",
   "execution_count": 119,
   "metadata": {},
   "outputs": [
    {
     "output_type": "execute_result",
     "data": {
      "text/plain": "False    45358\nTrue        93\nName: video, dtype: int64"
     },
     "metadata": {},
     "execution_count": 119
    }
   ],
   "source": [
    "kaggle_metadata['video'].value_counts()"
   ]
  },
  {
   "cell_type": "code",
   "execution_count": 120,
   "metadata": {},
   "outputs": [],
   "source": [
    "kaggle_metadata['video'] = kaggle_metadata['video'] == 'True'"
   ]
  },
  {
   "cell_type": "code",
   "execution_count": 121,
   "metadata": {},
   "outputs": [],
   "source": [
    "kaggle_metadata['budget'] = kaggle_metadata['budget'].astype(int)\n",
    "kaggle_metadata['id'] = pd.to_numeric(kaggle_metadata['id'], errors='raise')\n",
    "kaggle_metadata['popularity'] = pd.to_numeric(kaggle_metadata['popularity'], errors='raise')"
   ]
  },
  {
   "cell_type": "code",
   "execution_count": 122,
   "metadata": {},
   "outputs": [],
   "source": [
    "kaggle_metadata['release_date'] = pd.to_datetime(kaggle_metadata['release_date'])"
   ]
  },
  {
   "cell_type": "code",
   "execution_count": 123,
   "metadata": {
    "tags": []
   },
   "outputs": [
    {
     "output_type": "stream",
     "name": "stdout",
     "text": "<class 'pandas.core.frame.DataFrame'>\nRangeIndex: 26024289 entries, 0 to 26024288\nData columns (total 4 columns):\n #   Column     Non-Null Count     Dtype  \n---  ------     --------------     -----  \n 0   userId     26024289 non-null  int64  \n 1   movieId    26024289 non-null  int64  \n 2   rating     26024289 non-null  float64\n 3   timestamp  26024289 non-null  int64  \ndtypes: float64(1), int64(3)\nmemory usage: 794.2 MB\n"
    }
   ],
   "source": [
    "ratings.info(null_counts=True)"
   ]
  },
  {
   "cell_type": "code",
   "execution_count": 124,
   "metadata": {},
   "outputs": [
    {
     "output_type": "execute_result",
     "data": {
      "text/plain": "0          2015-03-09 22:52:09\n1          2015-03-09 23:07:15\n2          2015-03-09 22:52:03\n3          2015-03-09 22:52:26\n4          2015-03-09 22:52:36\n                   ...        \n26024284   2009-10-31 23:26:04\n26024285   2009-10-31 23:33:52\n26024286   2009-10-31 23:29:24\n26024287   2009-11-01 00:06:30\n26024288   2009-10-31 23:30:58\nName: timestamp, Length: 26024289, dtype: datetime64[ns]"
     },
     "metadata": {},
     "execution_count": 124
    }
   ],
   "source": [
    "pd.to_datetime(ratings['timestamp'], unit='s')"
   ]
  },
  {
   "cell_type": "code",
   "execution_count": 125,
   "metadata": {},
   "outputs": [],
   "source": [
    "ratings['timestamp'] = pd.to_datetime(ratings['timestamp'], unit='s')"
   ]
  },
  {
   "cell_type": "code",
   "execution_count": 126,
   "metadata": {},
   "outputs": [
    {
     "output_type": "execute_result",
     "data": {
      "text/plain": "count    2.602429e+07\nmean     3.528090e+00\nstd      1.065443e+00\nmin      5.000000e-01\n25%      3.000000e+00\n50%      3.500000e+00\n75%      4.000000e+00\nmax      5.000000e+00\nName: rating, dtype: float64"
     },
     "metadata": {},
     "execution_count": 126
    },
    {
     "output_type": "display_data",
     "data": {
      "text/plain": "<Figure size 432x288 with 1 Axes>",
      "image/svg+xml": "<?xml version=\"1.0\" encoding=\"utf-8\" standalone=\"no\"?>\r\n<!DOCTYPE svg PUBLIC \"-//W3C//DTD SVG 1.1//EN\"\r\n  \"http://www.w3.org/Graphics/SVG/1.1/DTD/svg11.dtd\">\r\n<!-- Created with matplotlib (https://matplotlib.org/) -->\r\n<svg height=\"259.116562pt\" version=\"1.1\" viewBox=\"0 0 376.240625 259.116562\" width=\"376.240625pt\" xmlns=\"http://www.w3.org/2000/svg\" xmlns:xlink=\"http://www.w3.org/1999/xlink\">\r\n <defs>\r\n  <style type=\"text/css\">\r\n*{stroke-linecap:butt;stroke-linejoin:round;}\r\n  </style>\r\n </defs>\r\n <g id=\"figure_1\">\r\n  <g id=\"patch_1\">\r\n   <path d=\"M 0 259.116562 \r\nL 376.240625 259.116562 \r\nL 376.240625 0 \r\nL 0 0 \r\nz\r\n\" style=\"fill:none;\"/>\r\n  </g>\r\n  <g id=\"axes_1\">\r\n   <g id=\"patch_2\">\r\n    <path d=\"M 34.240625 235.238437 \r\nL 369.040625 235.238437 \r\nL 369.040625 17.798437 \r\nL 34.240625 17.798437 \r\nz\r\n\" style=\"fill:#ffffff;\"/>\r\n   </g>\r\n   <g id=\"patch_3\">\r\n    <path clip-path=\"url(#p17e0399d61)\" d=\"M 49.458807 235.238437 \r\nL 79.89517 235.238437 \r\nL 79.89517 223.258047 \r\nL 49.458807 223.258047 \r\nz\r\n\" style=\"fill:#1f77b4;\"/>\r\n   </g>\r\n   <g id=\"patch_4\">\r\n    <path clip-path=\"url(#p17e0399d61)\" d=\"M 79.89517 235.238437 \r\nL 110.331534 235.238437 \r\nL 110.331534 210.285959 \r\nL 79.89517 210.285959 \r\nz\r\n\" style=\"fill:#1f77b4;\"/>\r\n   </g>\r\n   <g id=\"patch_5\">\r\n    <path clip-path=\"url(#p17e0399d61)\" d=\"M 110.331534 235.238437 \r\nL 140.767898 235.238437 \r\nL 140.767898 223.296216 \r\nL 110.331534 223.296216 \r\nz\r\n\" style=\"fill:#1f77b4;\"/>\r\n   </g>\r\n   <g id=\"patch_6\">\r\n    <path clip-path=\"url(#p17e0399d61)\" d=\"M 140.767898 235.238437 \r\nL 171.204261 235.238437 \r\nL 171.204261 183.090063 \r\nL 140.767898 183.090063 \r\nz\r\n\" style=\"fill:#1f77b4;\"/>\r\n   </g>\r\n   <g id=\"patch_7\">\r\n    <path clip-path=\"url(#p17e0399d61)\" d=\"M 171.204261 235.238437 \r\nL 201.640625 235.238437 \r\nL 201.640625 198.093979 \r\nL 171.204261 198.093979 \r\nz\r\n\" style=\"fill:#1f77b4;\"/>\r\n   </g>\r\n   <g id=\"patch_8\">\r\n    <path clip-path=\"url(#p17e0399d61)\" d=\"M 201.640625 235.238437 \r\nL 232.076989 235.238437 \r\nL 232.076989 79.698671 \r\nL 201.640625 79.698671 \r\nz\r\n\" style=\"fill:#1f77b4;\"/>\r\n   </g>\r\n   <g id=\"patch_9\">\r\n    <path clip-path=\"url(#p17e0399d61)\" d=\"M 232.076989 235.238437 \r\nL 262.513352 235.238437 \r\nL 262.513352 143.033629 \r\nL 232.076989 143.033629 \r\nz\r\n\" style=\"fill:#1f77b4;\"/>\r\n   </g>\r\n   <g id=\"patch_10\">\r\n    <path clip-path=\"url(#p17e0399d61)\" d=\"M 262.513352 235.238437 \r\nL 292.949716 235.238437 \r\nL 292.949716 28.152723 \r\nL 262.513352 28.152723 \r\nz\r\n\" style=\"fill:#1f77b4;\"/>\r\n   </g>\r\n   <g id=\"patch_11\">\r\n    <path clip-path=\"url(#p17e0399d61)\" d=\"M 292.949716 235.238437 \r\nL 323.38608 235.238437 \r\nL 323.38608 171.017829 \r\nL 292.949716 171.017829 \r\nz\r\n\" style=\"fill:#1f77b4;\"/>\r\n   </g>\r\n   <g id=\"patch_12\">\r\n    <path clip-path=\"url(#p17e0399d61)\" d=\"M 323.38608 235.238437 \r\nL 353.822443 235.238437 \r\nL 353.822443 122.431406 \r\nL 323.38608 122.431406 \r\nz\r\n\" style=\"fill:#1f77b4;\"/>\r\n   </g>\r\n   <g id=\"matplotlib.axis_1\">\r\n    <g id=\"xtick_1\">\r\n     <g id=\"line2d_1\">\r\n      <defs>\r\n       <path d=\"M 0 0 \r\nL 0 3.5 \r\n\" id=\"m4d0740c4d5\" style=\"stroke:#000000;stroke-width:0.8;\"/>\r\n      </defs>\r\n      <g>\r\n       <use style=\"stroke:#000000;stroke-width:0.8;\" x=\"83.276989\" xlink:href=\"#m4d0740c4d5\" y=\"235.238437\"/>\r\n      </g>\r\n     </g>\r\n     <g id=\"text_1\">\r\n      <!-- 1 -->\r\n      <defs>\r\n       <path d=\"M 12.40625 8.296875 \r\nL 28.515625 8.296875 \r\nL 28.515625 63.921875 \r\nL 10.984375 60.40625 \r\nL 10.984375 69.390625 \r\nL 28.421875 72.90625 \r\nL 38.28125 72.90625 \r\nL 38.28125 8.296875 \r\nL 54.390625 8.296875 \r\nL 54.390625 0 \r\nL 12.40625 0 \r\nz\r\n\" id=\"DejaVuSans-49\"/>\r\n      </defs>\r\n      <g transform=\"translate(80.095739 249.836875)scale(0.1 -0.1)\">\r\n       <use xlink:href=\"#DejaVuSans-49\"/>\r\n      </g>\r\n     </g>\r\n    </g>\r\n    <g id=\"xtick_2\">\r\n     <g id=\"line2d_2\">\r\n      <g>\r\n       <use style=\"stroke:#000000;stroke-width:0.8;\" x=\"150.913352\" xlink:href=\"#m4d0740c4d5\" y=\"235.238437\"/>\r\n      </g>\r\n     </g>\r\n     <g id=\"text_2\">\r\n      <!-- 2 -->\r\n      <defs>\r\n       <path d=\"M 19.1875 8.296875 \r\nL 53.609375 8.296875 \r\nL 53.609375 0 \r\nL 7.328125 0 \r\nL 7.328125 8.296875 \r\nQ 12.9375 14.109375 22.625 23.890625 \r\nQ 32.328125 33.6875 34.8125 36.53125 \r\nQ 39.546875 41.84375 41.421875 45.53125 \r\nQ 43.3125 49.21875 43.3125 52.78125 \r\nQ 43.3125 58.59375 39.234375 62.25 \r\nQ 35.15625 65.921875 28.609375 65.921875 \r\nQ 23.96875 65.921875 18.8125 64.3125 \r\nQ 13.671875 62.703125 7.8125 59.421875 \r\nL 7.8125 69.390625 \r\nQ 13.765625 71.78125 18.9375 73 \r\nQ 24.125 74.21875 28.421875 74.21875 \r\nQ 39.75 74.21875 46.484375 68.546875 \r\nQ 53.21875 62.890625 53.21875 53.421875 \r\nQ 53.21875 48.921875 51.53125 44.890625 \r\nQ 49.859375 40.875 45.40625 35.40625 \r\nQ 44.1875 33.984375 37.640625 27.21875 \r\nQ 31.109375 20.453125 19.1875 8.296875 \r\nz\r\n\" id=\"DejaVuSans-50\"/>\r\n      </defs>\r\n      <g transform=\"translate(147.732102 249.836875)scale(0.1 -0.1)\">\r\n       <use xlink:href=\"#DejaVuSans-50\"/>\r\n      </g>\r\n     </g>\r\n    </g>\r\n    <g id=\"xtick_3\">\r\n     <g id=\"line2d_3\">\r\n      <g>\r\n       <use style=\"stroke:#000000;stroke-width:0.8;\" x=\"218.549716\" xlink:href=\"#m4d0740c4d5\" y=\"235.238437\"/>\r\n      </g>\r\n     </g>\r\n     <g id=\"text_3\">\r\n      <!-- 3 -->\r\n      <defs>\r\n       <path d=\"M 40.578125 39.3125 \r\nQ 47.65625 37.796875 51.625 33 \r\nQ 55.609375 28.21875 55.609375 21.1875 \r\nQ 55.609375 10.40625 48.1875 4.484375 \r\nQ 40.765625 -1.421875 27.09375 -1.421875 \r\nQ 22.515625 -1.421875 17.65625 -0.515625 \r\nQ 12.796875 0.390625 7.625 2.203125 \r\nL 7.625 11.71875 \r\nQ 11.71875 9.328125 16.59375 8.109375 \r\nQ 21.484375 6.890625 26.8125 6.890625 \r\nQ 36.078125 6.890625 40.9375 10.546875 \r\nQ 45.796875 14.203125 45.796875 21.1875 \r\nQ 45.796875 27.640625 41.28125 31.265625 \r\nQ 36.765625 34.90625 28.71875 34.90625 \r\nL 20.21875 34.90625 \r\nL 20.21875 43.015625 \r\nL 29.109375 43.015625 \r\nQ 36.375 43.015625 40.234375 45.921875 \r\nQ 44.09375 48.828125 44.09375 54.296875 \r\nQ 44.09375 59.90625 40.109375 62.90625 \r\nQ 36.140625 65.921875 28.71875 65.921875 \r\nQ 24.65625 65.921875 20.015625 65.03125 \r\nQ 15.375 64.15625 9.8125 62.3125 \r\nL 9.8125 71.09375 \r\nQ 15.4375 72.65625 20.34375 73.4375 \r\nQ 25.25 74.21875 29.59375 74.21875 \r\nQ 40.828125 74.21875 47.359375 69.109375 \r\nQ 53.90625 64.015625 53.90625 55.328125 \r\nQ 53.90625 49.265625 50.4375 45.09375 \r\nQ 46.96875 40.921875 40.578125 39.3125 \r\nz\r\n\" id=\"DejaVuSans-51\"/>\r\n      </defs>\r\n      <g transform=\"translate(215.368466 249.836875)scale(0.1 -0.1)\">\r\n       <use xlink:href=\"#DejaVuSans-51\"/>\r\n      </g>\r\n     </g>\r\n    </g>\r\n    <g id=\"xtick_4\">\r\n     <g id=\"line2d_4\">\r\n      <g>\r\n       <use style=\"stroke:#000000;stroke-width:0.8;\" x=\"286.18608\" xlink:href=\"#m4d0740c4d5\" y=\"235.238437\"/>\r\n      </g>\r\n     </g>\r\n     <g id=\"text_4\">\r\n      <!-- 4 -->\r\n      <defs>\r\n       <path d=\"M 37.796875 64.3125 \r\nL 12.890625 25.390625 \r\nL 37.796875 25.390625 \r\nz\r\nM 35.203125 72.90625 \r\nL 47.609375 72.90625 \r\nL 47.609375 25.390625 \r\nL 58.015625 25.390625 \r\nL 58.015625 17.1875 \r\nL 47.609375 17.1875 \r\nL 47.609375 0 \r\nL 37.796875 0 \r\nL 37.796875 17.1875 \r\nL 4.890625 17.1875 \r\nL 4.890625 26.703125 \r\nz\r\n\" id=\"DejaVuSans-52\"/>\r\n      </defs>\r\n      <g transform=\"translate(283.00483 249.836875)scale(0.1 -0.1)\">\r\n       <use xlink:href=\"#DejaVuSans-52\"/>\r\n      </g>\r\n     </g>\r\n    </g>\r\n    <g id=\"xtick_5\">\r\n     <g id=\"line2d_5\">\r\n      <g>\r\n       <use style=\"stroke:#000000;stroke-width:0.8;\" x=\"353.822443\" xlink:href=\"#m4d0740c4d5\" y=\"235.238437\"/>\r\n      </g>\r\n     </g>\r\n     <g id=\"text_5\">\r\n      <!-- 5 -->\r\n      <defs>\r\n       <path d=\"M 10.796875 72.90625 \r\nL 49.515625 72.90625 \r\nL 49.515625 64.59375 \r\nL 19.828125 64.59375 \r\nL 19.828125 46.734375 \r\nQ 21.96875 47.46875 24.109375 47.828125 \r\nQ 26.265625 48.1875 28.421875 48.1875 \r\nQ 40.625 48.1875 47.75 41.5 \r\nQ 54.890625 34.8125 54.890625 23.390625 \r\nQ 54.890625 11.625 47.5625 5.09375 \r\nQ 40.234375 -1.421875 26.90625 -1.421875 \r\nQ 22.3125 -1.421875 17.546875 -0.640625 \r\nQ 12.796875 0.140625 7.71875 1.703125 \r\nL 7.71875 11.625 \r\nQ 12.109375 9.234375 16.796875 8.0625 \r\nQ 21.484375 6.890625 26.703125 6.890625 \r\nQ 35.15625 6.890625 40.078125 11.328125 \r\nQ 45.015625 15.765625 45.015625 23.390625 \r\nQ 45.015625 31 40.078125 35.4375 \r\nQ 35.15625 39.890625 26.703125 39.890625 \r\nQ 22.75 39.890625 18.8125 39.015625 \r\nQ 14.890625 38.140625 10.796875 36.28125 \r\nz\r\n\" id=\"DejaVuSans-53\"/>\r\n      </defs>\r\n      <g transform=\"translate(350.641193 249.836875)scale(0.1 -0.1)\">\r\n       <use xlink:href=\"#DejaVuSans-53\"/>\r\n      </g>\r\n     </g>\r\n    </g>\r\n   </g>\r\n   <g id=\"matplotlib.axis_2\">\r\n    <g id=\"ytick_1\">\r\n     <g id=\"line2d_6\">\r\n      <defs>\r\n       <path d=\"M 0 0 \r\nL -3.5 0 \r\n\" id=\"mab1231519a\" style=\"stroke:#000000;stroke-width:0.8;\"/>\r\n      </defs>\r\n      <g>\r\n       <use style=\"stroke:#000000;stroke-width:0.8;\" x=\"34.240625\" xlink:href=\"#mab1231519a\" y=\"235.238437\"/>\r\n      </g>\r\n     </g>\r\n     <g id=\"text_6\">\r\n      <!-- 0 -->\r\n      <defs>\r\n       <path d=\"M 31.78125 66.40625 \r\nQ 24.171875 66.40625 20.328125 58.90625 \r\nQ 16.5 51.421875 16.5 36.375 \r\nQ 16.5 21.390625 20.328125 13.890625 \r\nQ 24.171875 6.390625 31.78125 6.390625 \r\nQ 39.453125 6.390625 43.28125 13.890625 \r\nQ 47.125 21.390625 47.125 36.375 \r\nQ 47.125 51.421875 43.28125 58.90625 \r\nQ 39.453125 66.40625 31.78125 66.40625 \r\nz\r\nM 31.78125 74.21875 \r\nQ 44.046875 74.21875 50.515625 64.515625 \r\nQ 56.984375 54.828125 56.984375 36.375 \r\nQ 56.984375 17.96875 50.515625 8.265625 \r\nQ 44.046875 -1.421875 31.78125 -1.421875 \r\nQ 19.53125 -1.421875 13.0625 8.265625 \r\nQ 6.59375 17.96875 6.59375 36.375 \r\nQ 6.59375 54.828125 13.0625 64.515625 \r\nQ 19.53125 74.21875 31.78125 74.21875 \r\nz\r\n\" id=\"DejaVuSans-48\"/>\r\n      </defs>\r\n      <g transform=\"translate(20.878125 239.037656)scale(0.1 -0.1)\">\r\n       <use xlink:href=\"#DejaVuSans-48\"/>\r\n      </g>\r\n     </g>\r\n    </g>\r\n    <g id=\"ytick_2\">\r\n     <g id=\"line2d_7\">\r\n      <g>\r\n       <use style=\"stroke:#000000;stroke-width:0.8;\" x=\"34.240625\" xlink:href=\"#mab1231519a\" y=\"205.6497\"/>\r\n      </g>\r\n     </g>\r\n     <g id=\"text_7\">\r\n      <!-- 1 -->\r\n      <g transform=\"translate(20.878125 209.448919)scale(0.1 -0.1)\">\r\n       <use xlink:href=\"#DejaVuSans-49\"/>\r\n      </g>\r\n     </g>\r\n    </g>\r\n    <g id=\"ytick_3\">\r\n     <g id=\"line2d_8\">\r\n      <g>\r\n       <use style=\"stroke:#000000;stroke-width:0.8;\" x=\"34.240625\" xlink:href=\"#mab1231519a\" y=\"176.060963\"/>\r\n      </g>\r\n     </g>\r\n     <g id=\"text_8\">\r\n      <!-- 2 -->\r\n      <g transform=\"translate(20.878125 179.860182)scale(0.1 -0.1)\">\r\n       <use xlink:href=\"#DejaVuSans-50\"/>\r\n      </g>\r\n     </g>\r\n    </g>\r\n    <g id=\"ytick_4\">\r\n     <g id=\"line2d_9\">\r\n      <g>\r\n       <use style=\"stroke:#000000;stroke-width:0.8;\" x=\"34.240625\" xlink:href=\"#mab1231519a\" y=\"146.472225\"/>\r\n      </g>\r\n     </g>\r\n     <g id=\"text_9\">\r\n      <!-- 3 -->\r\n      <g transform=\"translate(20.878125 150.271444)scale(0.1 -0.1)\">\r\n       <use xlink:href=\"#DejaVuSans-51\"/>\r\n      </g>\r\n     </g>\r\n    </g>\r\n    <g id=\"ytick_5\">\r\n     <g id=\"line2d_10\">\r\n      <g>\r\n       <use style=\"stroke:#000000;stroke-width:0.8;\" x=\"34.240625\" xlink:href=\"#mab1231519a\" y=\"116.883488\"/>\r\n      </g>\r\n     </g>\r\n     <g id=\"text_10\">\r\n      <!-- 4 -->\r\n      <g transform=\"translate(20.878125 120.682707)scale(0.1 -0.1)\">\r\n       <use xlink:href=\"#DejaVuSans-52\"/>\r\n      </g>\r\n     </g>\r\n    </g>\r\n    <g id=\"ytick_6\">\r\n     <g id=\"line2d_11\">\r\n      <g>\r\n       <use style=\"stroke:#000000;stroke-width:0.8;\" x=\"34.240625\" xlink:href=\"#mab1231519a\" y=\"87.294751\"/>\r\n      </g>\r\n     </g>\r\n     <g id=\"text_11\">\r\n      <!-- 5 -->\r\n      <g transform=\"translate(20.878125 91.093969)scale(0.1 -0.1)\">\r\n       <use xlink:href=\"#DejaVuSans-53\"/>\r\n      </g>\r\n     </g>\r\n    </g>\r\n    <g id=\"ytick_7\">\r\n     <g id=\"line2d_12\">\r\n      <g>\r\n       <use style=\"stroke:#000000;stroke-width:0.8;\" x=\"34.240625\" xlink:href=\"#mab1231519a\" y=\"57.706013\"/>\r\n      </g>\r\n     </g>\r\n     <g id=\"text_12\">\r\n      <!-- 6 -->\r\n      <defs>\r\n       <path d=\"M 33.015625 40.375 \r\nQ 26.375 40.375 22.484375 35.828125 \r\nQ 18.609375 31.296875 18.609375 23.390625 \r\nQ 18.609375 15.53125 22.484375 10.953125 \r\nQ 26.375 6.390625 33.015625 6.390625 \r\nQ 39.65625 6.390625 43.53125 10.953125 \r\nQ 47.40625 15.53125 47.40625 23.390625 \r\nQ 47.40625 31.296875 43.53125 35.828125 \r\nQ 39.65625 40.375 33.015625 40.375 \r\nz\r\nM 52.59375 71.296875 \r\nL 52.59375 62.3125 \r\nQ 48.875 64.0625 45.09375 64.984375 \r\nQ 41.3125 65.921875 37.59375 65.921875 \r\nQ 27.828125 65.921875 22.671875 59.328125 \r\nQ 17.53125 52.734375 16.796875 39.40625 \r\nQ 19.671875 43.65625 24.015625 45.921875 \r\nQ 28.375 48.1875 33.59375 48.1875 \r\nQ 44.578125 48.1875 50.953125 41.515625 \r\nQ 57.328125 34.859375 57.328125 23.390625 \r\nQ 57.328125 12.15625 50.6875 5.359375 \r\nQ 44.046875 -1.421875 33.015625 -1.421875 \r\nQ 20.359375 -1.421875 13.671875 8.265625 \r\nQ 6.984375 17.96875 6.984375 36.375 \r\nQ 6.984375 53.65625 15.1875 63.9375 \r\nQ 23.390625 74.21875 37.203125 74.21875 \r\nQ 40.921875 74.21875 44.703125 73.484375 \r\nQ 48.484375 72.75 52.59375 71.296875 \r\nz\r\n\" id=\"DejaVuSans-54\"/>\r\n      </defs>\r\n      <g transform=\"translate(20.878125 61.505232)scale(0.1 -0.1)\">\r\n       <use xlink:href=\"#DejaVuSans-54\"/>\r\n      </g>\r\n     </g>\r\n    </g>\r\n    <g id=\"ytick_8\">\r\n     <g id=\"line2d_13\">\r\n      <g>\r\n       <use style=\"stroke:#000000;stroke-width:0.8;\" x=\"34.240625\" xlink:href=\"#mab1231519a\" y=\"28.117276\"/>\r\n      </g>\r\n     </g>\r\n     <g id=\"text_13\">\r\n      <!-- 7 -->\r\n      <defs>\r\n       <path d=\"M 8.203125 72.90625 \r\nL 55.078125 72.90625 \r\nL 55.078125 68.703125 \r\nL 28.609375 0 \r\nL 18.3125 0 \r\nL 43.21875 64.59375 \r\nL 8.203125 64.59375 \r\nz\r\n\" id=\"DejaVuSans-55\"/>\r\n      </defs>\r\n      <g transform=\"translate(20.878125 31.916495)scale(0.1 -0.1)\">\r\n       <use xlink:href=\"#DejaVuSans-55\"/>\r\n      </g>\r\n     </g>\r\n    </g>\r\n    <g id=\"text_14\">\r\n     <!-- Frequency -->\r\n     <defs>\r\n      <path d=\"M 9.8125 72.90625 \r\nL 51.703125 72.90625 \r\nL 51.703125 64.59375 \r\nL 19.671875 64.59375 \r\nL 19.671875 43.109375 \r\nL 48.578125 43.109375 \r\nL 48.578125 34.8125 \r\nL 19.671875 34.8125 \r\nL 19.671875 0 \r\nL 9.8125 0 \r\nz\r\n\" id=\"DejaVuSans-70\"/>\r\n      <path d=\"M 41.109375 46.296875 \r\nQ 39.59375 47.171875 37.8125 47.578125 \r\nQ 36.03125 48 33.890625 48 \r\nQ 26.265625 48 22.1875 43.046875 \r\nQ 18.109375 38.09375 18.109375 28.8125 \r\nL 18.109375 0 \r\nL 9.078125 0 \r\nL 9.078125 54.6875 \r\nL 18.109375 54.6875 \r\nL 18.109375 46.1875 \r\nQ 20.953125 51.171875 25.484375 53.578125 \r\nQ 30.03125 56 36.53125 56 \r\nQ 37.453125 56 38.578125 55.875 \r\nQ 39.703125 55.765625 41.0625 55.515625 \r\nz\r\n\" id=\"DejaVuSans-114\"/>\r\n      <path d=\"M 56.203125 29.59375 \r\nL 56.203125 25.203125 \r\nL 14.890625 25.203125 \r\nQ 15.484375 15.921875 20.484375 11.0625 \r\nQ 25.484375 6.203125 34.421875 6.203125 \r\nQ 39.59375 6.203125 44.453125 7.46875 \r\nQ 49.3125 8.734375 54.109375 11.28125 \r\nL 54.109375 2.78125 \r\nQ 49.265625 0.734375 44.1875 -0.34375 \r\nQ 39.109375 -1.421875 33.890625 -1.421875 \r\nQ 20.796875 -1.421875 13.15625 6.1875 \r\nQ 5.515625 13.8125 5.515625 26.8125 \r\nQ 5.515625 40.234375 12.765625 48.109375 \r\nQ 20.015625 56 32.328125 56 \r\nQ 43.359375 56 49.78125 48.890625 \r\nQ 56.203125 41.796875 56.203125 29.59375 \r\nz\r\nM 47.21875 32.234375 \r\nQ 47.125 39.59375 43.09375 43.984375 \r\nQ 39.0625 48.390625 32.421875 48.390625 \r\nQ 24.90625 48.390625 20.390625 44.140625 \r\nQ 15.875 39.890625 15.1875 32.171875 \r\nz\r\n\" id=\"DejaVuSans-101\"/>\r\n      <path d=\"M 14.796875 27.296875 \r\nQ 14.796875 17.390625 18.875 11.75 \r\nQ 22.953125 6.109375 30.078125 6.109375 \r\nQ 37.203125 6.109375 41.296875 11.75 \r\nQ 45.40625 17.390625 45.40625 27.296875 \r\nQ 45.40625 37.203125 41.296875 42.84375 \r\nQ 37.203125 48.484375 30.078125 48.484375 \r\nQ 22.953125 48.484375 18.875 42.84375 \r\nQ 14.796875 37.203125 14.796875 27.296875 \r\nz\r\nM 45.40625 8.203125 \r\nQ 42.578125 3.328125 38.25 0.953125 \r\nQ 33.9375 -1.421875 27.875 -1.421875 \r\nQ 17.96875 -1.421875 11.734375 6.484375 \r\nQ 5.515625 14.40625 5.515625 27.296875 \r\nQ 5.515625 40.1875 11.734375 48.09375 \r\nQ 17.96875 56 27.875 56 \r\nQ 33.9375 56 38.25 53.625 \r\nQ 42.578125 51.265625 45.40625 46.390625 \r\nL 45.40625 54.6875 \r\nL 54.390625 54.6875 \r\nL 54.390625 -20.796875 \r\nL 45.40625 -20.796875 \r\nz\r\n\" id=\"DejaVuSans-113\"/>\r\n      <path d=\"M 8.5 21.578125 \r\nL 8.5 54.6875 \r\nL 17.484375 54.6875 \r\nL 17.484375 21.921875 \r\nQ 17.484375 14.15625 20.5 10.265625 \r\nQ 23.53125 6.390625 29.59375 6.390625 \r\nQ 36.859375 6.390625 41.078125 11.03125 \r\nQ 45.3125 15.671875 45.3125 23.6875 \r\nL 45.3125 54.6875 \r\nL 54.296875 54.6875 \r\nL 54.296875 0 \r\nL 45.3125 0 \r\nL 45.3125 8.40625 \r\nQ 42.046875 3.421875 37.71875 1 \r\nQ 33.40625 -1.421875 27.6875 -1.421875 \r\nQ 18.265625 -1.421875 13.375 4.4375 \r\nQ 8.5 10.296875 8.5 21.578125 \r\nz\r\nM 31.109375 56 \r\nz\r\n\" id=\"DejaVuSans-117\"/>\r\n      <path d=\"M 54.890625 33.015625 \r\nL 54.890625 0 \r\nL 45.90625 0 \r\nL 45.90625 32.71875 \r\nQ 45.90625 40.484375 42.875 44.328125 \r\nQ 39.84375 48.1875 33.796875 48.1875 \r\nQ 26.515625 48.1875 22.3125 43.546875 \r\nQ 18.109375 38.921875 18.109375 30.90625 \r\nL 18.109375 0 \r\nL 9.078125 0 \r\nL 9.078125 54.6875 \r\nL 18.109375 54.6875 \r\nL 18.109375 46.1875 \r\nQ 21.34375 51.125 25.703125 53.5625 \r\nQ 30.078125 56 35.796875 56 \r\nQ 45.21875 56 50.046875 50.171875 \r\nQ 54.890625 44.34375 54.890625 33.015625 \r\nz\r\n\" id=\"DejaVuSans-110\"/>\r\n      <path d=\"M 48.78125 52.59375 \r\nL 48.78125 44.1875 \r\nQ 44.96875 46.296875 41.140625 47.34375 \r\nQ 37.3125 48.390625 33.40625 48.390625 \r\nQ 24.65625 48.390625 19.8125 42.84375 \r\nQ 14.984375 37.3125 14.984375 27.296875 \r\nQ 14.984375 17.28125 19.8125 11.734375 \r\nQ 24.65625 6.203125 33.40625 6.203125 \r\nQ 37.3125 6.203125 41.140625 7.25 \r\nQ 44.96875 8.296875 48.78125 10.40625 \r\nL 48.78125 2.09375 \r\nQ 45.015625 0.34375 40.984375 -0.53125 \r\nQ 36.96875 -1.421875 32.421875 -1.421875 \r\nQ 20.0625 -1.421875 12.78125 6.34375 \r\nQ 5.515625 14.109375 5.515625 27.296875 \r\nQ 5.515625 40.671875 12.859375 48.328125 \r\nQ 20.21875 56 33.015625 56 \r\nQ 37.15625 56 41.109375 55.140625 \r\nQ 45.0625 54.296875 48.78125 52.59375 \r\nz\r\n\" id=\"DejaVuSans-99\"/>\r\n      <path d=\"M 32.171875 -5.078125 \r\nQ 28.375 -14.84375 24.75 -17.8125 \r\nQ 21.140625 -20.796875 15.09375 -20.796875 \r\nL 7.90625 -20.796875 \r\nL 7.90625 -13.28125 \r\nL 13.1875 -13.28125 \r\nQ 16.890625 -13.28125 18.9375 -11.515625 \r\nQ 21 -9.765625 23.484375 -3.21875 \r\nL 25.09375 0.875 \r\nL 2.984375 54.6875 \r\nL 12.5 54.6875 \r\nL 29.59375 11.921875 \r\nL 46.6875 54.6875 \r\nL 56.203125 54.6875 \r\nz\r\n\" id=\"DejaVuSans-121\"/>\r\n     </defs>\r\n     <g transform=\"translate(14.798437 152.348125)rotate(-90)scale(0.1 -0.1)\">\r\n      <use xlink:href=\"#DejaVuSans-70\"/>\r\n      <use x=\"50.269531\" xlink:href=\"#DejaVuSans-114\"/>\r\n      <use x=\"89.132812\" xlink:href=\"#DejaVuSans-101\"/>\r\n      <use x=\"150.65625\" xlink:href=\"#DejaVuSans-113\"/>\r\n      <use x=\"214.132812\" xlink:href=\"#DejaVuSans-117\"/>\r\n      <use x=\"277.511719\" xlink:href=\"#DejaVuSans-101\"/>\r\n      <use x=\"339.035156\" xlink:href=\"#DejaVuSans-110\"/>\r\n      <use x=\"402.414062\" xlink:href=\"#DejaVuSans-99\"/>\r\n      <use x=\"457.394531\" xlink:href=\"#DejaVuSans-121\"/>\r\n     </g>\r\n    </g>\r\n    <g id=\"text_15\">\r\n     <!-- 1e6 -->\r\n     <g transform=\"translate(34.240625 14.798437)scale(0.1 -0.1)\">\r\n      <use xlink:href=\"#DejaVuSans-49\"/>\r\n      <use x=\"63.623047\" xlink:href=\"#DejaVuSans-101\"/>\r\n      <use x=\"125.146484\" xlink:href=\"#DejaVuSans-54\"/>\r\n     </g>\r\n    </g>\r\n   </g>\r\n   <g id=\"patch_13\">\r\n    <path d=\"M 34.240625 235.238437 \r\nL 34.240625 17.798437 \r\n\" style=\"fill:none;stroke:#000000;stroke-linecap:square;stroke-linejoin:miter;stroke-width:0.8;\"/>\r\n   </g>\r\n   <g id=\"patch_14\">\r\n    <path d=\"M 369.040625 235.238437 \r\nL 369.040625 17.798437 \r\n\" style=\"fill:none;stroke:#000000;stroke-linecap:square;stroke-linejoin:miter;stroke-width:0.8;\"/>\r\n   </g>\r\n   <g id=\"patch_15\">\r\n    <path d=\"M 34.240625 235.238437 \r\nL 369.040625 235.238437 \r\n\" style=\"fill:none;stroke:#000000;stroke-linecap:square;stroke-linejoin:miter;stroke-width:0.8;\"/>\r\n   </g>\r\n   <g id=\"patch_16\">\r\n    <path d=\"M 34.240625 17.798437 \r\nL 369.040625 17.798437 \r\n\" style=\"fill:none;stroke:#000000;stroke-linecap:square;stroke-linejoin:miter;stroke-width:0.8;\"/>\r\n   </g>\r\n  </g>\r\n </g>\r\n <defs>\r\n  <clipPath id=\"p17e0399d61\">\r\n   <rect height=\"217.44\" width=\"334.8\" x=\"34.240625\" y=\"17.798437\"/>\r\n  </clipPath>\r\n </defs>\r\n</svg>\r\n",
      "image/png": "[encoded data removed]"
     },
     "metadata": {
      "needs_background": "light"
     }
    }
   ],
   "source": [
    "ratings['rating'].plot(kind='hist')\n",
    "ratings['rating'].describe()"
   ]
  },
  {
   "cell_type": "code",
   "execution_count": null,
   "metadata": {},
   "outputs": [],
   "source": []
  }
 ]
}